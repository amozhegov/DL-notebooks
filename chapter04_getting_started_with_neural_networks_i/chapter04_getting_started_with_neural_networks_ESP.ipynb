{
  "cells": [
    {
      "cell_type": "markdown",
      "source": [
        "<a href=\"https://colab.research.google.com/github/ayrna/deep-learning-with-python-notebooks/blob/master/chapter04_getting-started-with-neural-networks.ipynb\" target=\"_parent\"><img src=\"https://colab.research.google.com/assets/colab-badge.svg\" alt=\"Open In Colab\"/></a>"
      ],
      "metadata": {
        "id": "4z5g-_mxqg2F"
      }
    },
    {
      "cell_type": "markdown",
      "metadata": {
        "id": "kVrEOI9m1mx6"
      },
      "source": [
        "Este cuaderno está basado en los cuadernos del libro [Deep Learning with Python, Second Edition](https://www.manning.com/books/deep-learning-with-python-second-edition?a_aid=keras&a_bid=76564dff).\n",
        "\n",
        "> This is a companion notebook for the book [Deep Learning with Python, Second Edition](https://www.manning.com/books/deep-learning-with-python-second-edition?a_aid=keras&a_bid=76564dff). For readability, it only contains runnable code blocks and section titles, and omits everything else in the book: text paragraphs, figures, and pseudocode.\n",
        "> **If you want to be able to follow what's going on, I recommend reading the notebook side by side with your copy of the book.**\n",
        "> This notebook was generated for TensorFlow 2.6."
      ]
    },
    {
      "cell_type": "markdown",
      "metadata": {
        "id": "EHlJZiGz1mx9"
      },
      "source": [
        "# Clasificación y regresión con redes neuronales"
      ]
    },
    {
      "cell_type": "markdown",
      "metadata": {
        "id": "_8pYM7y61mx-"
      },
      "source": [
        "## Ejemplo de clasificación binaria: reseñas de películas"
      ]
    },
    {
      "cell_type": "markdown",
      "metadata": {
        "id": "-WET8Nu01mx_"
      },
      "source": [
        "### El conjunto de datos IMDB\n",
        "\n",
        "Conjunto de datos IMDB: un conjunto de 50.000 reseñas **muy polarizadas** de la Internet Movie Database. Se dividen en 25.000 críticas para entrenamiento y 25.000 críticas para test, cada conjunto consta de un 50% de críticas negativas y un 50% de críticas positivas.\n",
        "\n",
        "Al igual que el conjunto de datos MNIST, el conjunto de datos IMDB está disponible en Keras. Ya ha sido preprocesado: las reseñas (secuencias de palabras) se han convertido en secuencias de números enteros, donde cada número entero representa una palabra específica de un diccionario (reducido). Esto nos permite centrarnos en la construcción, entrenamiento y la evaluación del modelo. "
      ]
    },
    {
      "cell_type": "markdown",
      "metadata": {
        "id": "6TtyoI5H1myA"
      },
      "source": [
        "**Cargar el conjunto de datos IMDB**\n",
        "`num_words=10000` filtra a las palabras más frecuentes en los datos de entrenamiento de las 88.585 disponibles. \n",
        "\n"
      ]
    },
    {
      "cell_type": "code",
      "execution_count": 1,
      "metadata": {
        "id": "jRqqqEQe1myA",
        "colab": {
          "base_uri": "https://localhost:8080/"
        },
        "outputId": "e670659a-34e0-4524-eaa0-6ef5bdfe79b5"
      },
      "outputs": [
        {
          "output_type": "stream",
          "name": "stdout",
          "text": [
            "Downloading data from https://storage.googleapis.com/tensorflow/tf-keras-datasets/imdb.npz\n",
            "17464789/17464789 [==============================] - 0s 0us/step\n"
          ]
        }
      ],
      "source": [
        "from tensorflow.keras.datasets import imdb\n",
        "(train_data, train_labels), (test_data, test_labels) = imdb.load_data(\n",
        "    num_words=10000)"
      ]
    },
    {
      "cell_type": "markdown",
      "source": [
        "Las variables `train_data` y `test_data` son una secuencia de índices de las palabras de cada reseña. \n",
        "\n",
        "Las etiquetas 0 y 1 significan que la reseña es *negativa* o *positiva* respectivamente. "
      ],
      "metadata": {
        "id": "hFC12mBo58wW"
      }
    },
    {
      "cell_type": "code",
      "execution_count": 2,
      "metadata": {
        "id": "ngQbmfJv1myC",
        "colab": {
          "base_uri": "https://localhost:8080/"
        },
        "outputId": "cb553ce6-5dbe-42cd-b9e2-b933853aaf46"
      },
      "outputs": [
        {
          "output_type": "execute_result",
          "data": {
            "text/plain": [
              "[1,\n",
              " 14,\n",
              " 22,\n",
              " 16,\n",
              " 43,\n",
              " 530,\n",
              " 973,\n",
              " 1622,\n",
              " 1385,\n",
              " 65,\n",
              " 458,\n",
              " 4468,\n",
              " 66,\n",
              " 3941,\n",
              " 4,\n",
              " 173,\n",
              " 36,\n",
              " 256,\n",
              " 5,\n",
              " 25,\n",
              " 100,\n",
              " 43,\n",
              " 838,\n",
              " 112,\n",
              " 50,\n",
              " 670,\n",
              " 2,\n",
              " 9,\n",
              " 35,\n",
              " 480,\n",
              " 284,\n",
              " 5,\n",
              " 150,\n",
              " 4,\n",
              " 172,\n",
              " 112,\n",
              " 167,\n",
              " 2,\n",
              " 336,\n",
              " 385,\n",
              " 39,\n",
              " 4,\n",
              " 172,\n",
              " 4536,\n",
              " 1111,\n",
              " 17,\n",
              " 546,\n",
              " 38,\n",
              " 13,\n",
              " 447,\n",
              " 4,\n",
              " 192,\n",
              " 50,\n",
              " 16,\n",
              " 6,\n",
              " 147,\n",
              " 2025,\n",
              " 19,\n",
              " 14,\n",
              " 22,\n",
              " 4,\n",
              " 1920,\n",
              " 4613,\n",
              " 469,\n",
              " 4,\n",
              " 22,\n",
              " 71,\n",
              " 87,\n",
              " 12,\n",
              " 16,\n",
              " 43,\n",
              " 530,\n",
              " 38,\n",
              " 76,\n",
              " 15,\n",
              " 13,\n",
              " 1247,\n",
              " 4,\n",
              " 22,\n",
              " 17,\n",
              " 515,\n",
              " 17,\n",
              " 12,\n",
              " 16,\n",
              " 626,\n",
              " 18,\n",
              " 2,\n",
              " 5,\n",
              " 62,\n",
              " 386,\n",
              " 12,\n",
              " 8,\n",
              " 316,\n",
              " 8,\n",
              " 106,\n",
              " 5,\n",
              " 4,\n",
              " 2223,\n",
              " 5244,\n",
              " 16,\n",
              " 480,\n",
              " 66,\n",
              " 3785,\n",
              " 33,\n",
              " 4,\n",
              " 130,\n",
              " 12,\n",
              " 16,\n",
              " 38,\n",
              " 619,\n",
              " 5,\n",
              " 25,\n",
              " 124,\n",
              " 51,\n",
              " 36,\n",
              " 135,\n",
              " 48,\n",
              " 25,\n",
              " 1415,\n",
              " 33,\n",
              " 6,\n",
              " 22,\n",
              " 12,\n",
              " 215,\n",
              " 28,\n",
              " 77,\n",
              " 52,\n",
              " 5,\n",
              " 14,\n",
              " 407,\n",
              " 16,\n",
              " 82,\n",
              " 2,\n",
              " 8,\n",
              " 4,\n",
              " 107,\n",
              " 117,\n",
              " 5952,\n",
              " 15,\n",
              " 256,\n",
              " 4,\n",
              " 2,\n",
              " 7,\n",
              " 3766,\n",
              " 5,\n",
              " 723,\n",
              " 36,\n",
              " 71,\n",
              " 43,\n",
              " 530,\n",
              " 476,\n",
              " 26,\n",
              " 400,\n",
              " 317,\n",
              " 46,\n",
              " 7,\n",
              " 4,\n",
              " 2,\n",
              " 1029,\n",
              " 13,\n",
              " 104,\n",
              " 88,\n",
              " 4,\n",
              " 381,\n",
              " 15,\n",
              " 297,\n",
              " 98,\n",
              " 32,\n",
              " 2071,\n",
              " 56,\n",
              " 26,\n",
              " 141,\n",
              " 6,\n",
              " 194,\n",
              " 7486,\n",
              " 18,\n",
              " 4,\n",
              " 226,\n",
              " 22,\n",
              " 21,\n",
              " 134,\n",
              " 476,\n",
              " 26,\n",
              " 480,\n",
              " 5,\n",
              " 144,\n",
              " 30,\n",
              " 5535,\n",
              " 18,\n",
              " 51,\n",
              " 36,\n",
              " 28,\n",
              " 224,\n",
              " 92,\n",
              " 25,\n",
              " 104,\n",
              " 4,\n",
              " 226,\n",
              " 65,\n",
              " 16,\n",
              " 38,\n",
              " 1334,\n",
              " 88,\n",
              " 12,\n",
              " 16,\n",
              " 283,\n",
              " 5,\n",
              " 16,\n",
              " 4472,\n",
              " 113,\n",
              " 103,\n",
              " 32,\n",
              " 15,\n",
              " 16,\n",
              " 5345,\n",
              " 19,\n",
              " 178,\n",
              " 32]"
            ]
          },
          "metadata": {},
          "execution_count": 2
        }
      ],
      "source": [
        "train_data[0]"
      ]
    },
    {
      "cell_type": "code",
      "execution_count": 3,
      "metadata": {
        "id": "XLo08C1A1myD",
        "colab": {
          "base_uri": "https://localhost:8080/"
        },
        "outputId": "b46cfbb3-7920-4816-c4da-d695d2275958"
      },
      "outputs": [
        {
          "output_type": "execute_result",
          "data": {
            "text/plain": [
              "1"
            ]
          },
          "metadata": {},
          "execution_count": 3
        }
      ],
      "source": [
        "train_labels[0]"
      ]
    },
    {
      "cell_type": "markdown",
      "source": [
        "Como nos limitamos a las 10.000 palabras más frecuentes, ningún índice de palabras superará las 10.000:"
      ],
      "metadata": {
        "id": "ODRaiIbg69v7"
      }
    },
    {
      "cell_type": "code",
      "execution_count": 4,
      "metadata": {
        "id": "DqB7cK_21myE",
        "colab": {
          "base_uri": "https://localhost:8080/"
        },
        "outputId": "6ccd24e0-d585-4ba3-81ec-5c4385d94afd"
      },
      "outputs": [
        {
          "output_type": "execute_result",
          "data": {
            "text/plain": [
              "9999"
            ]
          },
          "metadata": {},
          "execution_count": 4
        }
      ],
      "source": [
        "max([max(sequence) for sequence in train_data])"
      ]
    },
    {
      "cell_type": "markdown",
      "metadata": {
        "id": "-QyjwbIE1myG"
      },
      "source": [
        "**Decodificar el texto de una reseña**"
      ]
    },
    {
      "cell_type": "code",
      "execution_count": 5,
      "metadata": {
        "id": "FNCtgyFR1myH",
        "colab": {
          "base_uri": "https://localhost:8080/"
        },
        "outputId": "b4b71ea9-3ade-4f65-e4e9-9b9153a60a81"
      },
      "outputs": [
        {
          "output_type": "stream",
          "name": "stdout",
          "text": [
            "Downloading data from https://storage.googleapis.com/tensorflow/tf-keras-datasets/imdb_word_index.json\n",
            "1641221/1641221 [==============================] - 0s 0us/step\n",
            "? this film was just brilliant casting location scenery story direction everyone's really suited the part they played and you could just imagine being there robert ? is an amazing actor and now the same being director ? father came from the same scottish island as myself so i loved the fact there was a real connection with this film the witty remarks throughout the film were great it was just brilliant so much that i bought the film as soon as it was released for ? and would recommend it to everyone to watch and the fly fishing was amazing really cried at the end it was so sad and you know what they say if you cry at a film it must have been good and this definitely was also ? to the two little boy's that played the ? of norman and paul they were just brilliant children are often left out of the ? list i think because the stars that play them all grown up are such a big profile for the whole film but these children are amazing and should be praised for what they have done don't you think the whole story was so lovely because it was true and was someone's life after all that was shared with us all\n"
          ]
        }
      ],
      "source": [
        "word_index = imdb.get_word_index()\n",
        "reverse_word_index = dict(\n",
        "    [(value, key) for (key, value) in word_index.items()])\n",
        "decoded_review = \" \".join(\n",
        "    [reverse_word_index.get(i - 3, \"?\") for i in train_data[0]])\n",
        "print(decoded_review)"
      ]
    },
    {
      "cell_type": "markdown",
      "source": [
        "Ejemplo de una reseña negativa"
      ],
      "metadata": {
        "id": "HA2ZqLi77lNE"
      }
    },
    {
      "cell_type": "code",
      "source": [
        "decoded_review = \" \".join(\n",
        "    [reverse_word_index.get(i - 3, \"?\") for i in train_data[1]])\n",
        "print(decoded_review)\n",
        "\n",
        "decoded_review = \" \".join(\n",
        "    [reverse_word_index.get(i - 3, \"?\") for i in train_data[2]])\n",
        "print(decoded_review)"
      ],
      "metadata": {
        "id": "iyXxV6Ny7kHs",
        "colab": {
          "base_uri": "https://localhost:8080/"
        },
        "outputId": "232953af-32b5-46ab-8d65-fae155dedda4"
      },
      "execution_count": 6,
      "outputs": [
        {
          "output_type": "stream",
          "name": "stdout",
          "text": [
            "? big hair big boobs bad music and a giant safety pin these are the words to best describe this terrible movie i love cheesy horror movies and i've seen hundreds but this had got to be on of the worst ever made the plot is paper thin and ridiculous the acting is an abomination the script is completely laughable the best is the end showdown with the cop and how he worked out who the killer is it's just so damn terribly written the clothes are sickening and funny in equal ? the hair is big lots of boobs ? men wear those cut ? shirts that show off their ? sickening that men actually wore them and the music is just ? trash that plays over and over again in almost every scene there is trashy music boobs and ? taking away bodies and the gym still doesn't close for ? all joking aside this is a truly bad film whose only charm is to look back on the disaster that was the 80's and have a good old laugh at how bad everything was back then\n",
            "? this has to be one of the worst films of the 1990s when my friends i were watching this film being the target audience it was aimed at we just sat watched the first half an hour with our jaws touching the floor at how bad it really was the rest of the time everyone else in the theatre just started talking to each other leaving or generally crying into their popcorn that they actually paid money they had ? working to watch this feeble excuse for a film it must have looked like a great idea on paper but on film it looks like no one in the film has a clue what is going on crap acting crap costumes i can't get across how ? this is to watch save yourself an hour a bit of your life\n"
          ]
        }
      ]
    },
    {
      "cell_type": "markdown",
      "metadata": {
        "id": "qkgH8tjr1myI"
      },
      "source": [
        "### Preparación de los datos"
      ]
    },
    {
      "cell_type": "markdown",
      "source": [
        "Las redes neuronales necesitan trabajar con datos del mismo tamaño. Por tanto , no se pueden introducir directamente listas variables de enteros en la red neuronal y tenemos que convertir las listas en tensores. Hay dos maneras de hacerlo:\n",
        " \n",
        " * Rellenar las listas para que todas tengan la misma longitud como un tensor entero de la forma (muestras, longitud_máxima), y utilizar la capa [`Embedding`](https://keras.io/api/layers/core_layers/embedding/)). Ver [Understanding Embedding Layer in Keras](https://medium.com/analytics-vidhya/understanding-embedding-layer-in-keras-bbe3ff1327ce) para ampliar.\n",
        "\n",
        "* *Multi-hot encode*: Codificar las listas para convertirlas en vectores de 0s y 1s. Por ejemplo, convertir la secuencia [8, 5] en un vector de 10.000 dimensiones que sería todo 0s excepto los índices 8 y 5, que serían 1s. Así ya se podría usar una capa `Dense`, capaz de manejar datos vectoriales de punto flotante, como la primera capa del modelo."
      ],
      "metadata": {
        "id": "1OZMTf2D8AM-"
      }
    },
    {
      "cell_type": "markdown",
      "metadata": {
        "id": "i3aOn6331myJ"
      },
      "source": [
        "**Codificando las secuencias de entero como *multi-hot encoding***"
      ]
    },
    {
      "cell_type": "markdown",
      "source": [
        "Vectorización de los datos de entrada:"
      ],
      "metadata": {
        "id": "xoyPo--KBDFh"
      }
    },
    {
      "cell_type": "code",
      "execution_count": 7,
      "metadata": {
        "id": "mMjJK3eC1myJ"
      },
      "outputs": [],
      "source": [
        "import numpy as np\n",
        "def vectorize_sequences(sequences, dimension=10000):\n",
        "    results = np.zeros((len(sequences), dimension))\n",
        "    for i, sequence in enumerate(sequences):\n",
        "        for j in sequence:\n",
        "            results[i, j] = 1.\n",
        "    return results\n",
        "x_train = vectorize_sequences(train_data)\n",
        "x_test = vectorize_sequences(test_data)"
      ]
    },
    {
      "cell_type": "code",
      "execution_count": 8,
      "metadata": {
        "id": "W0av8XcD1myK",
        "colab": {
          "base_uri": "https://localhost:8080/"
        },
        "outputId": "b5354187-f080-4108-d50a-ee17d02f063c"
      },
      "outputs": [
        {
          "output_type": "execute_result",
          "data": {
            "text/plain": [
              "array([0., 1., 1., ..., 0., 0., 0.])"
            ]
          },
          "metadata": {},
          "execution_count": 8
        }
      ],
      "source": [
        "x_train[0]"
      ]
    },
    {
      "cell_type": "markdown",
      "source": [
        "Vectorización de las etiquetas y transformación a `float32`:"
      ],
      "metadata": {
        "id": "uU_7ikHiBI4j"
      }
    },
    {
      "cell_type": "code",
      "source": [
        "type(train_labels)\n",
        "type(train_labels[0])\n"
      ],
      "metadata": {
        "id": "VMM8DLRsBNBE",
        "colab": {
          "base_uri": "https://localhost:8080/"
        },
        "outputId": "07e9c7eb-4ee5-4c14-c6d9-84b3755b0d62"
      },
      "execution_count": 9,
      "outputs": [
        {
          "output_type": "execute_result",
          "data": {
            "text/plain": [
              "numpy.int64"
            ]
          },
          "metadata": {},
          "execution_count": 9
        }
      ]
    },
    {
      "cell_type": "code",
      "execution_count": 10,
      "metadata": {
        "id": "4tuWqmFx1myL"
      },
      "outputs": [],
      "source": [
        "y_train = np.asarray(train_labels).astype(\"float32\")\n",
        "y_test = np.asarray(test_labels).astype(\"float32\")"
      ]
    },
    {
      "cell_type": "markdown",
      "metadata": {
        "id": "_ndVJPbc1myL"
      },
      "source": [
        "### Construcción del modelo\n",
        "\n",
        "Despues del preprocesamiento, los datos de entrada son vectores, y las etiquetas son escalares (1s y 0s): esta es una de las configuraciones de problemas más simples que se pueden encontrar. Un tipo de modelo que funciona bien en este tipo de problemas es una pila simple de capas totalmente conectadas (`Dense`) con activaciones `relu`.\n",
        "\n",
        "Hay dos decisiones clave de arquitectura que se deben tomar sobre tal pila de capas densas:\n",
        "\n",
        "* Cuántas capas utilizar\n",
        "* Cuántas unidades elegir para cada capa\n",
        "\n",
        "En el capítulo 5 del libro ([Fundamentals of Machine Learning](https://livebook.manning.com/book/deep-learning-with-python-second-edition/chapter-5)) se indican más principios y heurísticas para orientar la definición de la arquitectura. \n",
        "\n",
        "Por el momento utilizaremos la siguiente arquitectura: \n",
        "* Dos capas intermedias con 16 unidades cada una\n",
        "* Una tercera capa que emitirá la predicción escalar sobre la opinión de la reseña actual\n",
        "\n",
        "Nota de traducción: **sentiment != sentimiento**\n",
        "\n"
      ]
    },
    {
      "cell_type": "markdown",
      "metadata": {
        "id": "r_LeN1VU1myM"
      },
      "source": [
        "**Definición del modelo**\n",
        "\n",
        "![imagen.png](data:image/png;base64,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)\n",
        "\n"
      ]
    },
    {
      "cell_type": "code",
      "execution_count": 11,
      "metadata": {
        "id": "7Cqz0zIn1myM"
      },
      "outputs": [],
      "source": [
        "from tensorflow import keras\n",
        "from tensorflow.keras import layers\n",
        "\n",
        "model = keras.Sequential([\n",
        "    layers.Dense(16, activation=\"relu\"),\n",
        "    layers.Dense(16, activation=\"relu\"),\n",
        "    layers.Dense(1, activation=\"sigmoid\")\n",
        "])"
      ]
    },
    {
      "cell_type": "markdown",
      "source": [
        "El primer argumento que se pasa a cada capa Dense es el número de unidades de la capa: la dimensionalidad del espacio de representación de la capa. \n",
        "\n",
        "Recordemos la implementación de cada capa: \n",
        "\n",
        "```\n",
        "output = relu(dot(input, W) + b)\n",
        "```\n",
        "Tener 16 unidades significa que la matriz de pesos `W` tendrá forma `(input_dimension, 16)`: el producto escalar con `W` proyectará los datos de entrada en un espacio de representación de 16 dimensiones (y luego añadirá el vector de sesgo `b` y aplicará la operación `relu`). \n",
        "\n",
        "❓❓❓\n",
        "\n",
        "¿Qué implicaciones tiene el aumento o reducción de la dimensionalidad de la capa\n",
        "\n",
        "❓❓❓\n",
        "\n",
        "Función relu: \n",
        "\n",
        "![imagen.png](data:image/png;base64,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)\n",
        "\n",
        "Función sigmoide: \n",
        "\n",
        "![imagen.png](data:image/png;base64,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)"
      ],
      "metadata": {
        "id": "7uEBI5gwHbub"
      }
    },
    {
      "cell_type": "markdown",
      "source": [
        "# Respuesta ✅"
      ],
      "metadata": {
        "id": "uU4BS4x0zA9L"
      }
    },
    {
      "cell_type": "markdown",
      "source": [
        "Aumentar o disminuir la dimensionalidad de una capa en una red neuronal tiene varias implicaciones:\n",
        "\n",
        "- Número de parámetros: El número de parámetros en la red es directamente proporcional a la dimensionalidad de la capa. Esto significa que aumentar la dimensionalidad de una capa aumentará la cantidad de parámetros en la red, lo que puede provocar un sobreajuste si el conjunto de datos no es lo suficientemente grande.\n",
        "\n",
        "- Poder de representación: aumentar la dimensionalidad de una capa aumentará el poder de representación de la capa, lo que permitirá que la red capture patrones más complejos y detallados en los datos. Sin embargo, si la dimensionalidad es demasiado alta, la red puede volverse demasiado especializada para los datos de entrenamiento y puede no generalizarse bien a nuevos datos.\n",
        "\n",
        "- Costo computacional: aumentar la dimensionalidad de una capa aumentará el costo computacional de la red, ya que se requieren más cálculos para procesar los datos a través de la capa. Esto puede llevar a tiempos de entrenamiento más prolongados y puede requerir un hardware más potente.\n",
        "\n",
        "- Interpretabilidad: aumentar la dimensionalidad de una capa puede dificultar la interpretación de las características que detecta la capa. Esto se debe a que las características se representan en un espacio de mayor dimensión, lo que puede ser difícil de visualizar o comprender.\n",
        "\n",
        "En general, la elección de la dimensionalidad de una capa es una compensación entre el poder de representación, el costo computacional y la capacidad de generalización, y debe considerarse cuidadosamente en función de la tarea y el conjunto de datos específicos."
      ],
      "metadata": {
        "id": "mnTZ18eMzDGg"
      }
    },
    {
      "cell_type": "markdown",
      "source": [
        "❓❓❓\n",
        "\n",
        "¿Por qué son necesarias las funciones de activación?\n",
        "\n",
        "❓❓❓"
      ],
      "metadata": {
        "id": "xgtOrzJxIrOr"
      }
    },
    {
      "cell_type": "markdown",
      "source": [
        "# Respuesta ✅"
      ],
      "metadata": {
        "id": "PinvvZKzzbeP"
      }
    },
    {
      "cell_type": "markdown",
      "source": [
        "Las funciones de activación son necesarias en las redes neuronales porque introducen la no linealidad en el modelo, lo que le permite aprender relaciones complejas y no lineales entre la entrada y la salida. Sin funciones de activación, una red neuronal sería un modelo de regresión lineal, que solo puede aprender relaciones lineales entre la entrada y la salida.\n",
        "\n",
        "Las funciones de activación se aplican a la salida de cada neurona en una red neuronal, transformando la entrada en una nueva salida que pasa a la siguiente capa de la red. Esto permite que la red aprenda representaciones más complejas de los datos de entrada.\n",
        "\n",
        "Las funciones de activación también ayudan a normalizar la salida de cada neurona, evitando que crezca demasiado o demasiado pequeña, lo que puede hacer que la red se vuelva inestable durante el entrenamiento. Además, algunas funciones de activación, como las funciones sigmoide y tanh, pueden introducir una forma de regularización que ayuda a evitar el sobreajuste al restringir los valores de la salida.\n",
        "\n",
        "En general, las funciones de activación son un componente fundamental de las redes neuronales, lo que les permite aprender relaciones complejas y no lineales entre la entrada y la salida, manteniendo la estabilidad y evitando el sobreajuste."
      ],
      "metadata": {
        "id": "YW7tPCGLzmKu"
      }
    },
    {
      "cell_type": "markdown",
      "metadata": {
        "id": "QrXdQ09v1myM"
      },
      "source": [
        "**Compilación del modelo**\n",
        "\n",
        "Como función de pérdida alternativamente podríamos usar `mean_squared_error` aunque en principio la entropía cruzada es más adecuada para trabajar con datos probabilísticos ya que mide la distancia entre distribuciones de probabilidad (*Crossentropy*). \n",
        "\n",
        "Resumen de la entropía cruzada: \n",
        "\n",
        "* El error cuadrático medio ($MSE$) no es la función natural de error cuando tenemos salidas probabilísticas, ya que trata por igual cualquier diferencia de error.\n",
        "* Para problemas de clasificación, deberíamos penalizar más los errores cometidos para la clase correcta ($d_j=1$) que para la incorrecta ($d_j=0$).\n",
        "* La entropía cruzada ($-\\ln $ verosimilitud) es más adecuada para problemas de clasificación ya que compara las dos distribuciones de probabilidad:\n",
        "\\begin{equation}\n",
        "L = - \\frac{1}{N\\cdot J} \\sum_{p=1}^N\\left(\\sum_{o=1}^J d_{po} \\ln(o_{po}) \\right)\n",
        "\\end{equation}\n",
        "\n",
        "\n",
        "❓❓❓\n",
        "\n",
        "**EJERCICIO:** ¿Cuáles serían las dos distribuciones de probabilidad\n",
        "\n",
        "❓❓❓"
      ]
    },
    {
      "cell_type": "markdown",
      "source": [
        "# Respuesta ✅"
      ],
      "metadata": {
        "id": "8_IOXnE20GgX"
      }
    },
    {
      "cell_type": "markdown",
      "source": [
        "En el contexto de la función de pérdida de entropía cruzada para problemas de clasificación, las dos distribuciones de probabilidad que se comparan son:\n",
        "\n",
        "1. La distribución de probabilidad predicha: esta es la distribución de probabilidad que genera el modelo para cada clase posible. Representa la confianza del modelo al asignar una cierta probabilidad a cada clase.\n",
        "\n",
        "2. La verdadera distribución de probabilidad: esta es la distribución de probabilidad que representa las etiquetas verdaderas de los datos. Tiene un valor de 1 para la clase verdadera y 0 para todas las demás clases.\n",
        "\n",
        "La función de pérdida de entropía cruzada mide la diferencia entre estas dos distribuciones de probabilidad, con el objetivo de minimizar esta diferencia durante el entrenamiento. La función de pérdida de entropía cruzada es una función de pérdida de uso común para problemas de clasificación, ya que penaliza más los errores cometidos en la clase verdadera y alienta al modelo a generar probabilidades más altas para la clase verdadera."
      ],
      "metadata": {
        "id": "GrxhcqiI0MAO"
      }
    },
    {
      "cell_type": "code",
      "execution_count": 12,
      "metadata": {
        "id": "LD9C-nnr1myM"
      },
      "outputs": [],
      "source": [
        "model.compile(optimizer=\"rmsprop\",\n",
        "              loss=\"binary_crossentropy\",\n",
        "              metrics=[\"accuracy\"])"
      ]
    },
    {
      "cell_type": "markdown",
      "metadata": {
        "id": "BZrwGqRb1myN"
      },
      "source": [
        "### Validación del modelo"
      ]
    },
    {
      "cell_type": "markdown",
      "metadata": {
        "id": "xj_lbUz11myN"
      },
      "source": [
        "**Reservar un conjunto de validación**\n",
        "\n",
        "Nota: en este conjunto de datos se puede hacer porque los suponemos aleatorizados. Recuerda conceptos como estratificación al dividir el conjunto de datos en entrenamiento, validación y test❗❗❗. "
      ]
    },
    {
      "cell_type": "code",
      "execution_count": 13,
      "metadata": {
        "id": "QGQMiCfm1myO"
      },
      "outputs": [],
      "source": [
        "x_val = x_train[:10000]\n",
        "partial_x_train = x_train[10000:]\n",
        "y_val = y_train[:10000]\n",
        "partial_y_train = y_train[10000:]"
      ]
    },
    {
      "cell_type": "markdown",
      "metadata": {
        "id": "9vhKU0qT1myO"
      },
      "source": [
        "**Entrenar/ajustar el modelo**"
      ]
    },
    {
      "cell_type": "markdown",
      "source": [
        "Parámetros: \n",
        "* Datos de entrenamiento y, opcionalmente, de validación\n",
        "* Épocas\n",
        "* Tamaño lotes\n",
        "\n",
        "El siguiente código debería tardar unos 2 segundos por época:"
      ],
      "metadata": {
        "id": "HMGaP5UZKmZf"
      }
    },
    {
      "cell_type": "code",
      "execution_count": 14,
      "metadata": {
        "id": "VQKN_sCy1myO",
        "colab": {
          "base_uri": "https://localhost:8080/"
        },
        "outputId": "44550d6e-e162-4161-999d-cb81462b9a92"
      },
      "outputs": [
        {
          "output_type": "stream",
          "name": "stdout",
          "text": [
            "Epoch 1/20\n",
            "30/30 [==============================] - 3s 68ms/step - loss: 0.5247 - accuracy: 0.7671 - val_loss: 0.3940 - val_accuracy: 0.8664\n",
            "Epoch 2/20\n",
            "30/30 [==============================] - 2s 61ms/step - loss: 0.3257 - accuracy: 0.8939 - val_loss: 0.3130 - val_accuracy: 0.8851\n",
            "Epoch 3/20\n",
            "30/30 [==============================] - 1s 39ms/step - loss: 0.2411 - accuracy: 0.9209 - val_loss: 0.2941 - val_accuracy: 0.8824\n",
            "Epoch 4/20\n",
            "30/30 [==============================] - 1s 20ms/step - loss: 0.2014 - accuracy: 0.9327 - val_loss: 0.2747 - val_accuracy: 0.8899\n",
            "Epoch 5/20\n",
            "30/30 [==============================] - 1s 20ms/step - loss: 0.1646 - accuracy: 0.9479 - val_loss: 0.3061 - val_accuracy: 0.8784\n",
            "Epoch 6/20\n",
            "30/30 [==============================] - 1s 19ms/step - loss: 0.1434 - accuracy: 0.9548 - val_loss: 0.2806 - val_accuracy: 0.8874\n",
            "Epoch 7/20\n",
            "30/30 [==============================] - 1s 19ms/step - loss: 0.1236 - accuracy: 0.9618 - val_loss: 0.2947 - val_accuracy: 0.8860\n",
            "Epoch 8/20\n",
            "30/30 [==============================] - 1s 21ms/step - loss: 0.1066 - accuracy: 0.9694 - val_loss: 0.3145 - val_accuracy: 0.8815\n",
            "Epoch 9/20\n",
            "30/30 [==============================] - 1s 19ms/step - loss: 0.0932 - accuracy: 0.9726 - val_loss: 0.3386 - val_accuracy: 0.8774\n",
            "Epoch 10/20\n",
            "30/30 [==============================] - 1s 25ms/step - loss: 0.0789 - accuracy: 0.9802 - val_loss: 0.3601 - val_accuracy: 0.8735\n",
            "Epoch 11/20\n",
            "30/30 [==============================] - 1s 21ms/step - loss: 0.0691 - accuracy: 0.9823 - val_loss: 0.3831 - val_accuracy: 0.8707\n",
            "Epoch 12/20\n",
            "30/30 [==============================] - 1s 25ms/step - loss: 0.0598 - accuracy: 0.9859 - val_loss: 0.3692 - val_accuracy: 0.8805\n",
            "Epoch 13/20\n",
            "30/30 [==============================] - 1s 26ms/step - loss: 0.0499 - accuracy: 0.9890 - val_loss: 0.3915 - val_accuracy: 0.8791\n",
            "Epoch 14/20\n",
            "30/30 [==============================] - 1s 20ms/step - loss: 0.0418 - accuracy: 0.9917 - val_loss: 0.4099 - val_accuracy: 0.8756\n",
            "Epoch 15/20\n",
            "30/30 [==============================] - 1s 20ms/step - loss: 0.0378 - accuracy: 0.9921 - val_loss: 0.4342 - val_accuracy: 0.8745\n",
            "Epoch 16/20\n",
            "30/30 [==============================] - 1s 19ms/step - loss: 0.0307 - accuracy: 0.9947 - val_loss: 0.4544 - val_accuracy: 0.8732\n",
            "Epoch 17/20\n",
            "30/30 [==============================] - 1s 20ms/step - loss: 0.0300 - accuracy: 0.9945 - val_loss: 0.4701 - val_accuracy: 0.8734\n",
            "Epoch 18/20\n",
            "30/30 [==============================] - 1s 27ms/step - loss: 0.0213 - accuracy: 0.9975 - val_loss: 0.5072 - val_accuracy: 0.8683\n",
            "Epoch 19/20\n",
            "30/30 [==============================] - 1s 38ms/step - loss: 0.0213 - accuracy: 0.9968 - val_loss: 0.5208 - val_accuracy: 0.8700\n",
            "Epoch 20/20\n",
            "30/30 [==============================] - 1s 24ms/step - loss: 0.0178 - accuracy: 0.9973 - val_loss: 0.5412 - val_accuracy: 0.8703\n"
          ]
        }
      ],
      "source": [
        "history = model.fit(partial_x_train,\n",
        "                    partial_y_train,\n",
        "                    epochs=20,\n",
        "                    batch_size=512,\n",
        "                    validation_data=(x_val, y_val))"
      ]
    },
    {
      "cell_type": "markdown",
      "source": [
        "Visualización del modelo: "
      ],
      "metadata": {
        "id": "WdjHPgJ2KzR_"
      }
    },
    {
      "cell_type": "code",
      "source": [
        "from keras.utils.vis_utils import plot_model\n",
        "plot_model(model, show_shapes=True, show_layer_names=True)"
      ],
      "metadata": {
        "id": "VFluSleREfpD",
        "colab": {
          "base_uri": "https://localhost:8080/",
          "height": 422
        },
        "outputId": "c9949a5e-d21d-44d4-c9e0-95877ce647e6"
      },
      "execution_count": 15,
      "outputs": [
        {
          "output_type": "execute_result",
          "data": {
            "image/png": "[encoded data removed]",
            "text/plain": [
              "<IPython.core.display.Image object>"
            ]
          },
          "metadata": {},
          "execution_count": 15
        }
      ]
    },
    {
      "cell_type": "markdown",
      "source": [
        "❓❓❓\n",
        "\n",
        "**EJERCICIO:** ¿Por qué no hemos podido visualizar el modelo hasta ahora\n",
        "\n",
        "❓❓❓"
      ],
      "metadata": {
        "id": "8FnHxUonLN5P"
      }
    },
    {
      "cell_type": "markdown",
      "source": [
        "# Respuesta ✅"
      ],
      "metadata": {
        "id": "b9MytrnJ0jvi"
      }
    },
    {
      "cell_type": "markdown",
      "source": [
        "Sin embargo, simplemente llamar a `plot_model` no crea la arquitectura del modelo ni compila el modelo para el entrenamiento. La función `model.compile` se usa para establecer el optimizador, la función de pérdida y las métricas de evaluación para el modelo, y la función model.fit se usa para entrenar el modelo en los datos de entrenamiento. Solo después de que se hayan completado estos pasos, podemos usar `plot_model` para visualizar la arquitectura del modelo.\n",
        "\n",
        "En resumen, `plot_model` es una herramienta de visualización que se puede utilizar para visualizar la arquitectura de un modelo de Keras, pero en realidad no crea ni entrena el modelo."
      ],
      "metadata": {
        "id": "U0gnZ6gD0loo"
      }
    },
    {
      "cell_type": "markdown",
      "source": [
        "Diccionario de historial del ajuste. En nuestro caso tiene 4 entradas, una por cada métrica que se ha monitorizado durante el entrenamiento y la validación."
      ],
      "metadata": {
        "id": "3Ie6CfR-LNfS"
      }
    },
    {
      "cell_type": "code",
      "execution_count": 16,
      "metadata": {
        "id": "DdZQc02E1myP",
        "colab": {
          "base_uri": "https://localhost:8080/"
        },
        "outputId": "c2a8f6d0-f314-4453-b45e-36c756068cb3"
      },
      "outputs": [
        {
          "output_type": "execute_result",
          "data": {
            "text/plain": [
              "dict_keys(['loss', 'accuracy', 'val_loss', 'val_accuracy'])"
            ]
          },
          "metadata": {},
          "execution_count": 16
        }
      ],
      "source": [
        "history_dict = history.history\n",
        "history_dict.keys()"
      ]
    },
    {
      "cell_type": "markdown",
      "metadata": {
        "id": "PqWAw0L81myP"
      },
      "source": [
        "Dibujar la **función de pérdida** en entrenamiento y validación:"
      ]
    },
    {
      "cell_type": "code",
      "execution_count": 17,
      "metadata": {
        "id": "bp3FHjvZ1myP",
        "colab": {
          "base_uri": "https://localhost:8080/",
          "height": 472
        },
        "outputId": "085c1bdb-d305-44c0-84c2-b92c3b281c3e"
      },
      "outputs": [
        {
          "output_type": "display_data",
          "data": {
            "text/plain": [
              "<Figure size 640x480 with 1 Axes>"
            ],
            "image/png": "[encoded data removed]"
          },
          "metadata": {}
        }
      ],
      "source": [
        "import matplotlib.pyplot as plt\n",
        "history_dict = history.history\n",
        "loss_values = history_dict[\"loss\"]\n",
        "val_loss_values = history_dict[\"val_loss\"]\n",
        "epochs = range(1, len(loss_values) + 1)\n",
        "plt.plot(epochs, loss_values, \"bo\", label=\"Training loss\")\n",
        "plt.plot(epochs, val_loss_values, \"b\", label=\"Validation loss\")\n",
        "plt.title(\"Training and validation loss\")\n",
        "plt.xlabel(\"Epochs\")\n",
        "plt.ylabel(\"Loss\")\n",
        "plt.legend()\n",
        "plt.show()"
      ]
    },
    {
      "cell_type": "markdown",
      "metadata": {
        "id": "6Acy99h41myQ"
      },
      "source": [
        "Dibujar la precisión de entenamiento y validación:"
      ]
    },
    {
      "cell_type": "code",
      "execution_count": 18,
      "metadata": {
        "id": "pLBczvO91myR",
        "colab": {
          "base_uri": "https://localhost:8080/",
          "height": 472
        },
        "outputId": "f7665267-b49f-4c56-85ea-40b009ac33d0"
      },
      "outputs": [
        {
          "output_type": "display_data",
          "data": {
            "text/plain": [
              "<Figure size 640x480 with 1 Axes>"
            ],
            "image/png": "[encoded data removed]"
          },
          "metadata": {}
        }
      ],
      "source": [
        "plt.clf()\n",
        "acc = history_dict[\"accuracy\"]\n",
        "val_acc = history_dict[\"val_accuracy\"]\n",
        "plt.plot(epochs, acc, \"bo\", label=\"Training acc\")\n",
        "plt.plot(epochs, val_acc, \"b\", label=\"Validation acc\")\n",
        "plt.title(\"Training and validation accuracy\")\n",
        "plt.xlabel(\"Epochs\")\n",
        "plt.ylabel(\"Accuracy\")\n",
        "plt.legend()\n",
        "plt.show()"
      ]
    },
    {
      "cell_type": "markdown",
      "source": [
        "❓❓❓\n",
        "\n",
        "**EJERCICIO**: ¿Qué observas en las gráficas anteriores?\n",
        "¿Cómo podríamos tratar de arreglar el problema que observas? (incluye código y gráficas que lo solucione y visualice)\n",
        "\n",
        "❓❓❓"
      ],
      "metadata": {
        "id": "7l_jL-UaLwfc"
      }
    },
    {
      "cell_type": "markdown",
      "source": [
        "# Respuesta ✅ "
      ],
      "metadata": {
        "id": "GqQxBc2E1wsQ"
      }
    },
    {
      "cell_type": "markdown",
      "source": [
        "Al observar el gráfico de pérdida de entrenamiento y validación, podemos ver que la pérdida de entrenamiento disminuye con cada época, lo cual es una buena señal. Sin embargo, la pérdida de validación parece aumentar después de alrededor de 4 o 5 épocas, lo que sugiere que el modelo puede estar sobreajustado a los datos de entrenamiento y no generalizar bien a los datos nuevos.\n",
        "\n",
        "Para abordar este problema de sobreajuste, podemos intentar usar alguna forma de regularización, como la deserción o la regularización del peso. También podemos intentar reducir el tamaño del modelo o aumentar la cantidad de datos de entrenamiento, si es posible."
      ],
      "metadata": {
        "id": "qL5SZ5Z02ElQ"
      }
    },
    {
      "cell_type": "markdown",
      "source": [
        "Tenemos que añadir algunas bibliotecas nuevas:"
      ],
      "metadata": {
        "id": "V2nHYNOo2XIs"
      }
    },
    {
      "cell_type": "code",
      "source": [
        "from keras import regularizers\n",
        "from keras.callbacks import EarlyStopping"
      ],
      "metadata": {
        "id": "E71bp4vu2Z96"
      },
      "execution_count": 19,
      "outputs": []
    },
    {
      "cell_type": "code",
      "source": [
        "model = keras.Sequential()\n",
        "model.add(layers.Dense(16, activation=\"relu\", kernel_regularizer=regularizers.l2(0.001), input_shape=(10000,)))\n",
        "model.add(layers.Dropout(0.5))\n",
        "model.add(layers.Dense(16, kernel_regularizer=regularizers.l2(0.001), activation=\"relu\"))\n",
        "model.add(layers.Dropout(0.5))\n",
        "model.add(layers.Dense(1, activation=\"sigmoid\"))\n",
        "\n",
        "model.compile(optimizer=\"rmsprop\",\n",
        "              loss=\"binary_crossentropy\",\n",
        "              metrics=[\"accuracy\"])\n",
        "\n",
        "# add early stopping\n",
        "early_stop = EarlyStopping(monitor=\"val_loss\", patience=3)\n",
        "\n",
        "history = model.fit(partial_x_train,\n",
        "                    partial_y_train,\n",
        "                    epochs=20,\n",
        "                    batch_size=512,\n",
        "                    validation_data=(x_val, y_val),\n",
        "                    callbacks=[early_stop])"
      ],
      "metadata": {
        "colab": {
          "base_uri": "https://localhost:8080/"
        },
        "id": "BhBGb6wA2dxV",
        "outputId": "de4a31e7-51f8-4268-db88-7ea3f0612197"
      },
      "execution_count": 20,
      "outputs": [
        {
          "output_type": "stream",
          "name": "stdout",
          "text": [
            "Epoch 1/20\n",
            "30/30 [==============================] - 2s 34ms/step - loss: 0.6917 - accuracy: 0.6092 - val_loss: 0.5784 - val_accuracy: 0.8128\n",
            "Epoch 2/20\n",
            "30/30 [==============================] - 1s 21ms/step - loss: 0.5831 - accuracy: 0.7323 - val_loss: 0.4787 - val_accuracy: 0.8569\n",
            "Epoch 3/20\n",
            "30/30 [==============================] - 1s 20ms/step - loss: 0.5008 - accuracy: 0.7968 - val_loss: 0.4145 - val_accuracy: 0.8652\n",
            "Epoch 4/20\n",
            "30/30 [==============================] - 1s 21ms/step - loss: 0.4496 - accuracy: 0.8336 - val_loss: 0.3675 - val_accuracy: 0.8819\n",
            "Epoch 5/20\n",
            "30/30 [==============================] - 1s 20ms/step - loss: 0.4090 - accuracy: 0.8657 - val_loss: 0.3400 - val_accuracy: 0.8860\n",
            "Epoch 6/20\n",
            "30/30 [==============================] - 1s 20ms/step - loss: 0.3678 - accuracy: 0.8867 - val_loss: 0.3569 - val_accuracy: 0.8739\n",
            "Epoch 7/20\n",
            "30/30 [==============================] - 1s 19ms/step - loss: 0.3414 - accuracy: 0.9017 - val_loss: 0.3334 - val_accuracy: 0.8813\n",
            "Epoch 8/20\n",
            "30/30 [==============================] - 1s 20ms/step - loss: 0.3175 - accuracy: 0.9098 - val_loss: 0.3284 - val_accuracy: 0.8856\n",
            "Epoch 9/20\n",
            "30/30 [==============================] - 1s 21ms/step - loss: 0.2932 - accuracy: 0.9210 - val_loss: 0.3385 - val_accuracy: 0.8858\n",
            "Epoch 10/20\n",
            "30/30 [==============================] - 1s 20ms/step - loss: 0.2786 - accuracy: 0.9308 - val_loss: 0.3397 - val_accuracy: 0.8865\n",
            "Epoch 11/20\n",
            "30/30 [==============================] - 1s 20ms/step - loss: 0.2633 - accuracy: 0.9340 - val_loss: 0.3591 - val_accuracy: 0.8844\n"
          ]
        }
      ]
    },
    {
      "cell_type": "code",
      "source": [
        "history_dict = history.history\n",
        "loss_values = history_dict[\"loss\"]\n",
        "val_loss_values = history_dict[\"val_loss\"]\n",
        "epochs = range(1, len(loss_values) + 1)"
      ],
      "metadata": {
        "id": "efrz7JlP2lBS"
      },
      "execution_count": 21,
      "outputs": []
    },
    {
      "cell_type": "code",
      "source": [
        "plt.plot(epochs, loss_values, \"bo\", label=\"Training loss\")\n",
        "plt.plot(epochs, val_loss_values, \"b\", label=\"Validation loss\")\n",
        "plt.title(\"Training and validation loss\")\n",
        "plt.xlabel(\"Epochs\")\n",
        "plt.ylabel(\"Loss\")\n",
        "plt.legend()\n",
        "plt.show()"
      ],
      "metadata": {
        "colab": {
          "base_uri": "https://localhost:8080/",
          "height": 472
        },
        "id": "NRePp4Vb2m5u",
        "outputId": "1705b912-8dd9-40a5-a4fd-f8e97cb04e07"
      },
      "execution_count": 22,
      "outputs": [
        {
          "output_type": "display_data",
          "data": {
            "text/plain": [
              "<Figure size 640x480 with 1 Axes>"
            ],
            "image/png": "[encoded data removed]"
          },
          "metadata": {}
        }
      ]
    },
    {
      "cell_type": "markdown",
      "metadata": {
        "id": "kqfgxCfn1myR"
      },
      "source": [
        "**Reentrenar el modelo**\n",
        "\n",
        "Después de nuestro análisis, podemos volver a reentrenar el modelo con otros parámetros. ¿Qué cambiarías?\n",
        "\n",
        "\n",
        "\n",
        "```\n",
        "model = keras.Sequential([\n",
        "    layers.Dense(16, activation=\"relu\"),\n",
        "    layers.Dense(16, activation=\"relu\"),\n",
        "    layers.Dense(1, activation=\"sigmoid\")\n",
        "])\n",
        "model.compile(...)\n",
        "model.fit(...)\n",
        "results = model.evaluate(x_test, y_test)\n",
        "```\n",
        "\n",
        "Haz tus pruebas aquí: "
      ]
    },
    {
      "cell_type": "code",
      "source": [],
      "metadata": {
        "id": "VMRRmeAPO7N5"
      },
      "execution_count": 22,
      "outputs": []
    },
    {
      "cell_type": "markdown",
      "metadata": {
        "id": "sjzXyp6W1myR"
      },
      "source": [
        "### Hacer predicciones en datos nuevos"
      ]
    },
    {
      "cell_type": "code",
      "execution_count": 23,
      "metadata": {
        "id": "TBLK1dfm1myS",
        "colab": {
          "base_uri": "https://localhost:8080/"
        },
        "outputId": "4f0153be-d890-4d25-e83e-a8599043e82b"
      },
      "outputs": [
        {
          "output_type": "stream",
          "name": "stdout",
          "text": [
            "782/782 [==============================] - 1s 1ms/step\n"
          ]
        },
        {
          "output_type": "execute_result",
          "data": {
            "text/plain": [
              "array([[0.140444  ],\n",
              "       [0.99997264],\n",
              "       [0.9984158 ],\n",
              "       ...,\n",
              "       [0.07658793],\n",
              "       [0.06818141],\n",
              "       [0.77516425]], dtype=float32)"
            ]
          },
          "metadata": {},
          "execution_count": 23
        }
      ],
      "source": [
        "model.predict(x_test)"
      ]
    },
    {
      "cell_type": "markdown",
      "source": [
        "❓❓❓\n",
        "\n",
        "**EJERCICIO**: Calcula la precisión global y la matriz de confusión en los datos de test (tienes ejemplos en cuadernos anteriores).\n",
        "\n",
        "❓❓❓"
      ],
      "metadata": {
        "id": "mEtBYkBMzA1C"
      }
    },
    {
      "cell_type": "markdown",
      "source": [
        "# Respuesta ✅"
      ],
      "metadata": {
        "id": "OTFCYWsj2w-2"
      }
    },
    {
      "cell_type": "code",
      "source": [
        "# predecir etiquetas para datos de prueba\n",
        "y_pred = model.predict(x_test)\n",
        "\n",
        "# convertir probabilidades predichas a etiquetas binarias\n",
        "y_pred_binary = (y_pred > 0.5).astype(int)"
      ],
      "metadata": {
        "colab": {
          "base_uri": "https://localhost:8080/"
        },
        "id": "ucjyjRGb24YU",
        "outputId": "6682bcb3-aafa-4bde-a99b-ba2504c7929a"
      },
      "execution_count": 24,
      "outputs": [
        {
          "output_type": "stream",
          "name": "stdout",
          "text": [
            "782/782 [==============================] - 1s 2ms/step\n"
          ]
        }
      ]
    },
    {
      "cell_type": "code",
      "source": [
        "# calcular matriz de confusión\n",
        "from sklearn.metrics import confusion_matrix\n",
        "confusion_mat = confusion_matrix(y_test, y_pred_binary)\n",
        "\n",
        "# imprimir matriz de confusión\n",
        "print(\"Confusion matrix:\")\n",
        "print(confusion_mat)"
      ],
      "metadata": {
        "colab": {
          "base_uri": "https://localhost:8080/"
        },
        "id": "-g7o2gUV3CyG",
        "outputId": "8e6d63d8-26b6-4717-dfd1-027e0ef6c7c5"
      },
      "execution_count": 25,
      "outputs": [
        {
          "output_type": "stream",
          "name": "stdout",
          "text": [
            "Confusion matrix:\n",
            "[[10673  1827]\n",
            " [ 1159 11341]]\n"
          ]
        }
      ]
    },
    {
      "cell_type": "code",
      "source": [
        "# calcular la precisión global\n",
        "global_precision = (confusion_mat[0,0] + confusion_mat[1,1]) / np.sum(confusion_mat)\n",
        "print(\"Global precision: {:.2f}\".format(global_precision))"
      ],
      "metadata": {
        "colab": {
          "base_uri": "https://localhost:8080/"
        },
        "id": "-Z2qZGs-3JXk",
        "outputId": "d659b99e-2f37-4a5f-8ec1-5507fcc52136"
      },
      "execution_count": 26,
      "outputs": [
        {
          "output_type": "stream",
          "name": "stdout",
          "text": [
            "Global precision: 0.88\n"
          ]
        }
      ]
    },
    {
      "cell_type": "markdown",
      "metadata": {
        "id": "TBghTdL61myS"
      },
      "source": [
        "### Amplía experimentos:\n",
        "\n",
        "Los siguientes experimentos te ayudarán a convencerte de que las elecciones de arquitectura que has hecho son bastante razonables, aunque todavía se puede mejorar:\n",
        "\n",
        "* Hemos utilizado dos capas de representación antes de la capa de clasificación final. Prueba a utilizar una o tres capas ocultas y observa cómo afecta esto a la validación y a la  recisión de la prueba.\n",
        "* Prueba a utilizar capas con más o menos unidades: 32 unidades, 64 unidades, etc.\n",
        "* Prueba a utilizar la función de pérdida `mse` en lugar de `binary_crossentropy`.\n",
        "* Prueba a utilizar la función de activación `tanh` en lugar de `relu`.\n"
      ]
    },
    {
      "cell_type": "markdown",
      "source": [
        "❓❓❓\n",
        "\n",
        "**EJERCICIO**: Como hicimos anterioremente, trata de recoger todo el código del notebook en una sola celda que te permita experimental fácilmente con diferentes arquitecturas y parámetros. Puedes asumir que los datos están ya cargados y procesados y centrarte en los experimentos. Necesitarás: \n",
        "1. Definir el modelo\n",
        "1. Compilar el modelo\n",
        "1. Ajustar el modelo\n",
        "1. Dibujar gráfica de convergencia\n",
        "1. Calcular la precisión en test\n",
        "\n",
        "❓❓❓\n"
      ],
      "metadata": {
        "id": "eieKLHMSzhgG"
      }
    },
    {
      "cell_type": "markdown",
      "source": [
        "# Respuesta ✅"
      ],
      "metadata": {
        "id": "Uug2SMCI3h9A"
      }
    },
    {
      "cell_type": "code",
      "source": [
        "model = keras.Sequential()\n",
        "model.add(layers.Dense(16, activation=\"relu\", kernel_regularizer=regularizers.l2(0.001), input_shape=(10000,)))\n",
        "model.add(layers.Dropout(0.5))\n",
        "model.add(layers.Dense(16, kernel_regularizer=regularizers.l2(0.001), activation=\"relu\"))\n",
        "model.add(layers.Dropout(0.5))\n",
        "model.add(layers.Dense(1, activation=\"sigmoid\"))\n",
        "\n",
        "model.compile(optimizer=\"rmsprop\",\n",
        "              loss=\"binary_crossentropy\",\n",
        "              metrics=[\"accuracy\"])\n",
        "\n",
        "# add early stopping\n",
        "early_stop = EarlyStopping(monitor=\"val_loss\", patience=3)\n",
        "\n",
        "history = model.fit(partial_x_train,\n",
        "                    partial_y_train,\n",
        "                    epochs=20,\n",
        "                    batch_size=512,\n",
        "                    validation_data=(x_val, y_val),\n",
        "                    callbacks=[early_stop])\n",
        "\n",
        "plt.plot(epochs, loss_values, \"bo\", label=\"Training loss\")\n",
        "plt.plot(epochs, val_loss_values, \"b\", label=\"Validation loss\")\n",
        "plt.title(\"Training and validation loss\")\n",
        "plt.xlabel(\"Epochs\")\n",
        "plt.ylabel(\"Loss\")\n",
        "plt.legend()\n",
        "plt.show()\n",
        "\n",
        "# predecir etiquetas para datos de prueba\n",
        "y_pred = model.predict(x_test)\n",
        "\n",
        "# convertir probabilidades predichas a etiquetas binarias\n",
        "y_pred_binary = (y_pred > 0.5).astype(int)\n",
        "\n",
        "confusion_mat = confusion_matrix(y_test, y_pred_binary)\n",
        "\n",
        "# calcular precisión global\n",
        "global_precision = (confusion_mat[0,0] + confusion_mat[1,1]) / np.sum(confusion_mat)\n",
        "print(\"Global precision: {:.2f}\".format(global_precision))"
      ],
      "metadata": {
        "id": "00RVUC0mzg5W",
        "colab": {
          "base_uri": "https://localhost:8080/",
          "height": 804
        },
        "outputId": "199e442a-3ed3-41dd-faf6-5a7c002a4a56"
      },
      "execution_count": 27,
      "outputs": [
        {
          "output_type": "stream",
          "name": "stdout",
          "text": [
            "Epoch 1/20\n",
            "30/30 [==============================] - 2s 34ms/step - loss: 0.6705 - accuracy: 0.6417 - val_loss: 0.5231 - val_accuracy: 0.8531\n",
            "Epoch 2/20\n",
            "30/30 [==============================] - 1s 21ms/step - loss: 0.5303 - accuracy: 0.7778 - val_loss: 0.4108 - val_accuracy: 0.8734\n",
            "Epoch 3/20\n",
            "30/30 [==============================] - 1s 33ms/step - loss: 0.4507 - accuracy: 0.8320 - val_loss: 0.3619 - val_accuracy: 0.8847\n",
            "Epoch 4/20\n",
            "30/30 [==============================] - 1s 34ms/step - loss: 0.3983 - accuracy: 0.8665 - val_loss: 0.3429 - val_accuracy: 0.8881\n",
            "Epoch 5/20\n",
            "30/30 [==============================] - 1s 22ms/step - loss: 0.3524 - accuracy: 0.8845 - val_loss: 0.3241 - val_accuracy: 0.8882\n",
            "Epoch 6/20\n",
            "30/30 [==============================] - 1s 20ms/step - loss: 0.3197 - accuracy: 0.8999 - val_loss: 0.3355 - val_accuracy: 0.8840\n",
            "Epoch 7/20\n",
            "30/30 [==============================] - 1s 20ms/step - loss: 0.2974 - accuracy: 0.9113 - val_loss: 0.3523 - val_accuracy: 0.8796\n",
            "Epoch 8/20\n",
            "30/30 [==============================] - 1s 21ms/step - loss: 0.2790 - accuracy: 0.9195 - val_loss: 0.3342 - val_accuracy: 0.8845\n"
          ]
        },
        {
          "output_type": "display_data",
          "data": {
            "text/plain": [
              "<Figure size 640x480 with 1 Axes>"
            ],
            "image/png": "[encoded data removed]"
          },
          "metadata": {}
        },
        {
          "output_type": "stream",
          "name": "stdout",
          "text": [
            "782/782 [==============================] - 1s 1ms/step\n",
            "Global precision: 0.88\n"
          ]
        }
      ]
    },
    {
      "cell_type": "markdown",
      "metadata": {
        "id": "MybZ1hW21myS"
      },
      "source": [
        "### Resumen\n",
        "* Preprocesamiento\n",
        "* Las pilas de capas `Dense` con `relu` pueden resolver muchos problemas\n",
        "* En clasificación binaria siempre terminamos el modelo con una capa `Dense` y activación `sigmoid`. \n",
        "* Por tanto usamos `binary_crossentropy.\n",
        "* Importancia de monitorizar el rendimiento."
      ]
    },
    {
      "cell_type": "markdown",
      "metadata": {
        "id": "wlB_X1Gs1myS"
      },
      "source": [
        "## Clasificación multiclase: clasificación de noticias\n",
        "\n",
        "* Clasificación binaria: categorías mútuamente exclusivas\n",
        "* Clasificación multiclase\n",
        " * Clasificación multiclase de etiqueta única\n",
        " * Clasificación multiclase multi-etiqueta"
      ]
    },
    {
      "cell_type": "markdown",
      "metadata": {
        "id": "ShlAjrRj1myU"
      },
      "source": [
        "### Conjunto de datos Reuterst\n",
        "\n",
        "Es un conjunto de datos multi-etiqueta donde cada etiqueta representa un *tema* asociado a una noticia. Hay 46 temas diferentes con distinto nivel de representación. \n",
        "\n",
        "Se puede trabajar como etiqueta simple considerando un tema único principal. "
      ]
    },
    {
      "cell_type": "markdown",
      "metadata": {
        "id": "B9dP4hNT1myU"
      },
      "source": [
        "**Cargar el conjunto de datos Reuters**"
      ]
    },
    {
      "cell_type": "code",
      "execution_count": 28,
      "metadata": {
        "id": "hrGVcsI-1myU",
        "colab": {
          "base_uri": "https://localhost:8080/"
        },
        "outputId": "51e16b52-bbaf-40f2-caf8-76cb3ec21f30"
      },
      "outputs": [
        {
          "output_type": "stream",
          "name": "stdout",
          "text": [
            "Downloading data from https://storage.googleapis.com/tensorflow/tf-keras-datasets/reuters.npz\n",
            "2110848/2110848 [==============================] - 0s 0us/step\n"
          ]
        }
      ],
      "source": [
        "from tensorflow.keras.datasets import reuters\n",
        "(train_data, train_labels), (test_data, test_labels) = reuters.load_data(\n",
        "    num_words=10000)"
      ]
    },
    {
      "cell_type": "code",
      "execution_count": 29,
      "metadata": {
        "id": "z4q3NOzU1myU",
        "colab": {
          "base_uri": "https://localhost:8080/"
        },
        "outputId": "4bea9305-397a-49f5-dfcc-344987c84500"
      },
      "outputs": [
        {
          "output_type": "execute_result",
          "data": {
            "text/plain": [
              "8982"
            ]
          },
          "metadata": {},
          "execution_count": 29
        }
      ],
      "source": [
        "len(train_data)"
      ]
    },
    {
      "cell_type": "code",
      "execution_count": 30,
      "metadata": {
        "id": "3Ix0XhY11myU",
        "colab": {
          "base_uri": "https://localhost:8080/"
        },
        "outputId": "40128fd0-f7ab-4d18-cf14-379900b7b220"
      },
      "outputs": [
        {
          "output_type": "execute_result",
          "data": {
            "text/plain": [
              "2246"
            ]
          },
          "metadata": {},
          "execution_count": 30
        }
      ],
      "source": [
        "len(test_data)"
      ]
    },
    {
      "cell_type": "code",
      "execution_count": 31,
      "metadata": {
        "id": "G2DbA0Rk1myU",
        "colab": {
          "base_uri": "https://localhost:8080/"
        },
        "outputId": "fbd3c571-2e45-4e32-f423-6490911d9847"
      },
      "outputs": [
        {
          "output_type": "execute_result",
          "data": {
            "text/plain": [
              "[1,\n",
              " 245,\n",
              " 273,\n",
              " 207,\n",
              " 156,\n",
              " 53,\n",
              " 74,\n",
              " 160,\n",
              " 26,\n",
              " 14,\n",
              " 46,\n",
              " 296,\n",
              " 26,\n",
              " 39,\n",
              " 74,\n",
              " 2979,\n",
              " 3554,\n",
              " 14,\n",
              " 46,\n",
              " 4689,\n",
              " 4329,\n",
              " 86,\n",
              " 61,\n",
              " 3499,\n",
              " 4795,\n",
              " 14,\n",
              " 61,\n",
              " 451,\n",
              " 4329,\n",
              " 17,\n",
              " 12]"
            ]
          },
          "metadata": {},
          "execution_count": 31
        }
      ],
      "source": [
        "train_data[10]"
      ]
    },
    {
      "cell_type": "code",
      "source": [
        "train_labels[10]"
      ],
      "metadata": {
        "id": "4iKVAf6Ppvjc",
        "colab": {
          "base_uri": "https://localhost:8080/"
        },
        "outputId": "9868ab21-dc88-4b67-b57a-648e1269325d"
      },
      "execution_count": 32,
      "outputs": [
        {
          "output_type": "execute_result",
          "data": {
            "text/plain": [
              "3"
            ]
          },
          "metadata": {},
          "execution_count": 32
        }
      ]
    },
    {
      "cell_type": "markdown",
      "metadata": {
        "id": "WTl3bp2o1myU"
      },
      "source": [
        "**Descodificar las noticias a texto**"
      ]
    },
    {
      "cell_type": "code",
      "execution_count": 33,
      "metadata": {
        "id": "5f_ZoHhg1myU",
        "colab": {
          "base_uri": "https://localhost:8080/"
        },
        "outputId": "4339abdd-1649-402e-897a-ed28c00041ac"
      },
      "outputs": [
        {
          "output_type": "stream",
          "name": "stdout",
          "text": [
            "Downloading data from https://storage.googleapis.com/tensorflow/tf-keras-datasets/reuters_word_index.json\n",
            "550378/550378 [==============================] - 0s 0us/step\n"
          ]
        }
      ],
      "source": [
        "word_index = reuters.get_word_index()\n",
        "reverse_word_index = dict([(value, key) for (key, value) in word_index.items()])\n",
        "decoded_newswire = \" \".join([reverse_word_index.get(i - 3, \"?\") for i in\n",
        "    train_data[0]])"
      ]
    },
    {
      "cell_type": "code",
      "execution_count": 34,
      "metadata": {
        "id": "64MD95WU1myV",
        "colab": {
          "base_uri": "https://localhost:8080/"
        },
        "outputId": "da54a7f2-a755-45b4-b506-cd519ca5e882"
      },
      "outputs": [
        {
          "output_type": "execute_result",
          "data": {
            "text/plain": [
              "4"
            ]
          },
          "metadata": {},
          "execution_count": 34
        }
      ],
      "source": [
        "train_labels[3]"
      ]
    },
    {
      "cell_type": "markdown",
      "metadata": {
        "id": "7dBVp3Hi1myV"
      },
      "source": [
        "### Preparación de los datos"
      ]
    },
    {
      "cell_type": "markdown",
      "metadata": {
        "id": "-EiHpX2L1myW"
      },
      "source": [
        "**Codificación de los datos**"
      ]
    },
    {
      "cell_type": "code",
      "execution_count": 35,
      "metadata": {
        "id": "zCIB6Vrq1myW"
      },
      "outputs": [],
      "source": [
        "x_train = vectorize_sequences(train_data)\n",
        "x_test = vectorize_sequences(test_data)"
      ]
    },
    {
      "cell_type": "code",
      "source": [
        "print(type(x_train))\n",
        "print(x_train.shape)"
      ],
      "metadata": {
        "id": "XDO2i8L9R1ph",
        "colab": {
          "base_uri": "https://localhost:8080/"
        },
        "outputId": "3dbae02c-ac8e-41f4-bd41-5f563f082256"
      },
      "execution_count": 36,
      "outputs": [
        {
          "output_type": "stream",
          "name": "stdout",
          "text": [
            "<class 'numpy.ndarray'>\n",
            "(8982, 10000)\n"
          ]
        }
      ]
    },
    {
      "cell_type": "markdown",
      "metadata": {
        "id": "wUOj4dJP1myW"
      },
      "source": [
        "**Codificación de las etiquetas**\n",
        "\n",
        "Utilizaremos *one-hot encoding* también conocido como *codificación categórica*.\n"
      ]
    },
    {
      "cell_type": "code",
      "source": [
        "print(y_train.shape)\n",
        "print(y_test.shape)"
      ],
      "metadata": {
        "id": "HsIBQSOuSXA7",
        "colab": {
          "base_uri": "https://localhost:8080/"
        },
        "outputId": "8ca91375-1250-43d7-d732-3ce9eebb42ed"
      },
      "execution_count": 37,
      "outputs": [
        {
          "output_type": "stream",
          "name": "stdout",
          "text": [
            "(25000,)\n",
            "(25000,)\n"
          ]
        }
      ]
    },
    {
      "cell_type": "code",
      "execution_count": 38,
      "metadata": {
        "id": "87_zjs0i1myX"
      },
      "outputs": [],
      "source": [
        "def to_one_hot(labels, dimension=46):\n",
        "    results = np.zeros((len(labels), dimension))\n",
        "    for i, label in enumerate(labels):\n",
        "        results[i, label] = 1.\n",
        "    return results\n",
        "y_train = to_one_hot(train_labels)\n",
        "y_test = to_one_hot(test_labels)"
      ]
    },
    {
      "cell_type": "markdown",
      "source": [
        "Veamos el resultado:"
      ],
      "metadata": {
        "id": "-xNEpPoESOfC"
      }
    },
    {
      "cell_type": "code",
      "source": [
        "print(y_train.shape)\n",
        "print(y_test.shape)"
      ],
      "metadata": {
        "id": "T0FfTJmUSOHd",
        "colab": {
          "base_uri": "https://localhost:8080/"
        },
        "outputId": "aa462289-9899-4b63-db43-f63bc497de98"
      },
      "execution_count": 39,
      "outputs": [
        {
          "output_type": "stream",
          "name": "stdout",
          "text": [
            "(8982, 46)\n",
            "(2246, 46)\n"
          ]
        }
      ]
    },
    {
      "cell_type": "markdown",
      "source": [
        "Como puedes imaginar, Keras tiene una función para esto: "
      ],
      "metadata": {
        "id": "XPcGJzBhSlxD"
      }
    },
    {
      "cell_type": "code",
      "execution_count": 40,
      "metadata": {
        "id": "Ihe9StlS1myX"
      },
      "outputs": [],
      "source": [
        "from tensorflow.keras.utils import to_categorical\n",
        "y_train = to_categorical(train_labels)\n",
        "y_test = to_categorical(test_labels)"
      ]
    },
    {
      "cell_type": "markdown",
      "metadata": {
        "id": "oKa6Szx91myY"
      },
      "source": [
        "### Construcción del modelo"
      ]
    },
    {
      "cell_type": "markdown",
      "metadata": {
        "id": "J-Iwv0oL1myY"
      },
      "source": [
        "**Definición del modelo**\n",
        "\n",
        "❓❓❓ **EJERCICIO:** ¿Qué valor pondrías en HHH y en XXX?❓❓❓\n",
        "\n",
        "```\n",
        "model = keras.Sequential([\n",
        "    layers.Dense(HHH, activation=\"relu\"),\n",
        "    layers.Dense(HHH, activation=\"relu\"),\n",
        "    layers.Dense(XXX, activation=\"softmax\")\n",
        "])\n",
        "```"
      ]
    },
    {
      "cell_type": "markdown",
      "source": [
        "# Respuesta ✅"
      ],
      "metadata": {
        "id": "04dnRPa544YU"
      }
    },
    {
      "cell_type": "markdown",
      "source": [
        "El rango típico para el número de unidades ocultas es entre 16 y 256"
      ],
      "metadata": {
        "id": "TwWkrvBy49cw"
      }
    },
    {
      "cell_type": "code",
      "execution_count": 41,
      "metadata": {
        "id": "rS2Wkd-L1myY",
        "colab": {
          "base_uri": "https://localhost:8080/"
        },
        "outputId": "fe7f4bf3-c8d7-4842-d044-41fa99dc5c36"
      },
      "outputs": [
        {
          "output_type": "execute_result",
          "data": {
            "text/plain": [
              "46"
            ]
          },
          "metadata": {},
          "execution_count": 41
        }
      ],
      "source": [
        "len(np.unique(train_labels))"
      ]
    },
    {
      "cell_type": "code",
      "source": [
        "model = keras.Sequential([\n",
        "    layers.Dense(256, activation=\"relu\"),\n",
        "    layers.Dense(128, activation=\"relu\"),\n",
        "    layers.Dense(46, activation=\"softmax\")\n",
        "])"
      ],
      "metadata": {
        "id": "KBuqNYiq5B_9"
      },
      "execution_count": 42,
      "outputs": []
    },
    {
      "cell_type": "markdown",
      "metadata": {
        "id": "10vk3EI31myY"
      },
      "source": [
        "**Compilación del modelo**"
      ]
    },
    {
      "cell_type": "code",
      "execution_count": 43,
      "metadata": {
        "id": "q5Ewl2oC1mya"
      },
      "outputs": [],
      "source": [
        "model.compile(optimizer=\"rmsprop\",\n",
        "              loss=\"categorical_crossentropy\",\n",
        "              metrics=[\"accuracy\"])"
      ]
    },
    {
      "cell_type": "markdown",
      "metadata": {
        "id": "lLls0rzV1mya"
      },
      "source": [
        "### Validación del diseño"
      ]
    },
    {
      "cell_type": "markdown",
      "metadata": {
        "id": "sQs2dV5B1myb"
      },
      "source": [
        "**Conjunto de validación**"
      ]
    },
    {
      "cell_type": "code",
      "execution_count": 44,
      "metadata": {
        "id": "hR0dY1lD1myb"
      },
      "outputs": [],
      "source": [
        "x_val = x_train[:1000]\n",
        "partial_x_train = x_train[1000:]\n",
        "y_val = y_train[:1000]\n",
        "partial_y_train = y_train[1000:]"
      ]
    },
    {
      "cell_type": "markdown",
      "metadata": {
        "id": "1YNCGDtt1myb"
      },
      "source": [
        "**Entrenamiento/ajuste del modelo**"
      ]
    },
    {
      "cell_type": "code",
      "execution_count": 45,
      "metadata": {
        "id": "YTffBPFe1myb",
        "colab": {
          "base_uri": "https://localhost:8080/"
        },
        "outputId": "6805cf9c-28f1-4541-f35c-cc938b7ad28e"
      },
      "outputs": [
        {
          "output_type": "stream",
          "name": "stdout",
          "text": [
            "Epoch 1/20\n",
            "16/16 [==============================] - 2s 115ms/step - loss: 2.2025 - accuracy: 0.5496 - val_loss: 1.4238 - val_accuracy: 0.6780\n",
            "Epoch 2/20\n",
            "16/16 [==============================] - 1s 89ms/step - loss: 1.1826 - accuracy: 0.7384 - val_loss: 1.1248 - val_accuracy: 0.7500\n",
            "Epoch 3/20\n",
            "16/16 [==============================] - 1s 94ms/step - loss: 0.8811 - accuracy: 0.8003 - val_loss: 1.0037 - val_accuracy: 0.7880\n",
            "Epoch 4/20\n",
            "16/16 [==============================] - 1s 87ms/step - loss: 0.6633 - accuracy: 0.8532 - val_loss: 0.9628 - val_accuracy: 0.7940\n",
            "Epoch 5/20\n",
            "16/16 [==============================] - 1s 90ms/step - loss: 0.4923 - accuracy: 0.8904 - val_loss: 0.8959 - val_accuracy: 0.8060\n",
            "Epoch 6/20\n",
            "16/16 [==============================] - 1s 89ms/step - loss: 0.3753 - accuracy: 0.9214 - val_loss: 0.8681 - val_accuracy: 0.8020\n",
            "Epoch 7/20\n",
            "16/16 [==============================] - 1s 91ms/step - loss: 0.3008 - accuracy: 0.9330 - val_loss: 0.9128 - val_accuracy: 0.8230\n",
            "Epoch 8/20\n",
            "16/16 [==============================] - 2s 140ms/step - loss: 0.2686 - accuracy: 0.9372 - val_loss: 0.8117 - val_accuracy: 0.8400\n",
            "Epoch 9/20\n",
            "16/16 [==============================] - 1s 90ms/step - loss: 0.2181 - accuracy: 0.9483 - val_loss: 0.8384 - val_accuracy: 0.8290\n",
            "Epoch 10/20\n",
            "16/16 [==============================] - 1s 89ms/step - loss: 0.2055 - accuracy: 0.9455 - val_loss: 0.8528 - val_accuracy: 0.8230\n",
            "Epoch 11/20\n",
            "16/16 [==============================] - 1s 89ms/step - loss: 0.1668 - accuracy: 0.9536 - val_loss: 0.9336 - val_accuracy: 0.8190\n",
            "Epoch 12/20\n",
            "16/16 [==============================] - 1s 91ms/step - loss: 0.1639 - accuracy: 0.9524 - val_loss: 1.0096 - val_accuracy: 0.7950\n",
            "Epoch 13/20\n",
            "16/16 [==============================] - 1s 89ms/step - loss: 0.1488 - accuracy: 0.9534 - val_loss: 0.9175 - val_accuracy: 0.8160\n",
            "Epoch 14/20\n",
            "16/16 [==============================] - 1s 89ms/step - loss: 0.1374 - accuracy: 0.9569 - val_loss: 0.9658 - val_accuracy: 0.8160\n",
            "Epoch 15/20\n",
            "16/16 [==============================] - 1s 88ms/step - loss: 0.1374 - accuracy: 0.9568 - val_loss: 0.9993 - val_accuracy: 0.8030\n",
            "Epoch 16/20\n",
            "16/16 [==============================] - 2s 145ms/step - loss: 0.1347 - accuracy: 0.9569 - val_loss: 0.9083 - val_accuracy: 0.8150\n",
            "Epoch 17/20\n",
            "16/16 [==============================] - 1s 90ms/step - loss: 0.1232 - accuracy: 0.9579 - val_loss: 0.9680 - val_accuracy: 0.8070\n",
            "Epoch 18/20\n",
            "16/16 [==============================] - 1s 88ms/step - loss: 0.1206 - accuracy: 0.9577 - val_loss: 0.9429 - val_accuracy: 0.8140\n",
            "Epoch 19/20\n",
            "16/16 [==============================] - 1s 88ms/step - loss: 0.1185 - accuracy: 0.9610 - val_loss: 0.9322 - val_accuracy: 0.8140\n",
            "Epoch 20/20\n",
            "16/16 [==============================] - 1s 86ms/step - loss: 0.1215 - accuracy: 0.9565 - val_loss: 1.0014 - val_accuracy: 0.8000\n"
          ]
        }
      ],
      "source": [
        "history = model.fit(partial_x_train,\n",
        "                    partial_y_train,\n",
        "                    epochs=20,\n",
        "                    batch_size=512,\n",
        "                    validation_data=(x_val, y_val))"
      ]
    },
    {
      "cell_type": "markdown",
      "metadata": {
        "id": "pek7TDj31myb"
      },
      "source": [
        "**Dibujar la pérdida de entrenamiento y validación**"
      ]
    },
    {
      "cell_type": "code",
      "execution_count": 46,
      "metadata": {
        "id": "OsMNniVg1myc",
        "colab": {
          "base_uri": "https://localhost:8080/",
          "height": 472
        },
        "outputId": "fb1947c3-6dda-4fa2-ddf9-e68b58a4187a"
      },
      "outputs": [
        {
          "output_type": "display_data",
          "data": {
            "text/plain": [
              "<Figure size 640x480 with 1 Axes>"
            ],
            "image/png": "[encoded data removed]"
          },
          "metadata": {}
        }
      ],
      "source": [
        "loss = history.history[\"loss\"]\n",
        "val_loss = history.history[\"val_loss\"]\n",
        "epochs = range(1, len(loss) + 1)\n",
        "plt.plot(epochs, loss, \"bo\", label=\"Training loss\")\n",
        "plt.plot(epochs, val_loss, \"b\", label=\"Validation loss\")\n",
        "plt.title(\"Training and validation loss\")\n",
        "plt.xlabel(\"Epochs\")\n",
        "plt.ylabel(\"Loss\")\n",
        "plt.legend()\n",
        "plt.show()"
      ]
    },
    {
      "cell_type": "markdown",
      "metadata": {
        "id": "Y44rHPnF1myc"
      },
      "source": [
        "**Dibujar la precisión en entrenamiento y validación**\n",
        "\n"
      ]
    },
    {
      "cell_type": "code",
      "execution_count": 47,
      "metadata": {
        "id": "NopDOSDe1myc",
        "colab": {
          "base_uri": "https://localhost:8080/",
          "height": 472
        },
        "outputId": "12df8753-1f92-4704-c741-d096babd8851"
      },
      "outputs": [
        {
          "output_type": "display_data",
          "data": {
            "text/plain": [
              "<Figure size 640x480 with 1 Axes>"
            ],
            "image/png": "[encoded data removed]"
          },
          "metadata": {}
        }
      ],
      "source": [
        "plt.clf()\n",
        "acc = history.history[\"accuracy\"]\n",
        "val_acc = history.history[\"val_accuracy\"]\n",
        "plt.plot(epochs, acc, \"bo\", label=\"Training accuracy\")\n",
        "plt.plot(epochs, val_acc, \"b\", label=\"Validation accuracy\")\n",
        "plt.title(\"Training and validation accuracy\")\n",
        "plt.xlabel(\"Epochs\")\n",
        "plt.ylabel(\"Accuracy\")\n",
        "plt.legend()\n",
        "plt.show()"
      ]
    },
    {
      "cell_type": "markdown",
      "metadata": {
        "id": "msANv2s21myc"
      },
      "source": [
        "\n",
        "\n",
        "```\n",
        "# Tiene formato de código\n",
        "\n",
        "```\n",
        "# Tiene formato de código\n",
        "```\n",
        "\n",
        "\n",
        "```\n",
        "\n",
        "❓❓❓\n",
        "**EJERCICIO:** **Reentrenemos desde cero con nuestras conclusiones**\n",
        "❓❓❓"
      ]
    },
    {
      "cell_type": "markdown",
      "source": [
        "# Respuesta ✅"
      ],
      "metadata": {
        "id": "3BON7feS5iXG"
      }
    },
    {
      "cell_type": "code",
      "source": [
        "from keras.datasets import reuters\n",
        "from keras.utils.np_utils import to_categorical\n",
        "\n",
        "# cargar conjunto de datos de Reuters\n",
        "(train_data, train_labels), (test_data, test_labels) = reuters.load_data(num_words=10000)\n",
        "\n",
        "# vectorizar secuencias\n",
        "def vectorize_sequences(sequences, dimension=10000):\n",
        "    results = np.zeros((len(sequences), dimension))\n",
        "    for i, sequence in enumerate(sequences):\n",
        "        results[i, sequence] = 1.\n",
        "    return results\n",
        "\n",
        "x_train = vectorize_sequences(train_data)\n",
        "x_test = vectorize_sequences(test_data)\n",
        "\n",
        "# etiquetas de codificación one-hot\n",
        "y_train = to_categorical(train_labels)\n",
        "y_test = to_categorical(test_labels)\n",
        "\n",
        "# definir y compilar el modelo\n",
        "model = keras.Sequential([\n",
        "    layers.Dense(256, activation=\"relu\"),\n",
        "    layers.Dropout(0.25),\n",
        "    layers.Dense(128, activation=\"relu\"),\n",
        "    layers.Dense(46, activation=\"softmax\")\n",
        "])\n",
        "\n",
        "# add early stopping\n",
        "early_stop = EarlyStopping(monitor=\"val_loss\", patience=3)\n",
        "\n",
        "model.compile(optimizer=\"rmsprop\",\n",
        "              loss=\"categorical_crossentropy\",\n",
        "              metrics=[\"accuracy\"])\n",
        "\n",
        "# entrenar modelo\n",
        "history = model.fit(x_train,\n",
        "                    y_train,\n",
        "                    epochs=20,\n",
        "                    batch_size=512,\n",
        "                    validation_split=0.2,\n",
        "                    callbacks=[early_stop])\n",
        "\n",
        "# evaluar en datos de prueba\n",
        "test_loss, test_acc = model.evaluate(x_test, y_test)\n",
        "print(\"Test accuracy: {:.2f}%\".format(test_acc*100))"
      ],
      "metadata": {
        "id": "pn-jSu4-USlA",
        "colab": {
          "base_uri": "https://localhost:8080/"
        },
        "outputId": "c096cbc4-a8ab-4ddb-95bb-dcbcf270d58d"
      },
      "execution_count": 48,
      "outputs": [
        {
          "output_type": "stream",
          "name": "stdout",
          "text": [
            "Epoch 1/20\n",
            "15/15 [==============================] - 2s 99ms/step - loss: 2.2175 - accuracy: 0.5090 - val_loss: 1.5113 - val_accuracy: 0.6322\n",
            "Epoch 2/20\n",
            "15/15 [==============================] - 2s 104ms/step - loss: 1.2681 - accuracy: 0.7122 - val_loss: 1.2142 - val_accuracy: 0.7234\n",
            "Epoch 3/20\n",
            "15/15 [==============================] - 2s 128ms/step - loss: 0.9599 - accuracy: 0.7873 - val_loss: 1.2244 - val_accuracy: 0.6956\n",
            "Epoch 4/20\n",
            "15/15 [==============================] - 1s 88ms/step - loss: 0.7647 - accuracy: 0.8259 - val_loss: 1.0099 - val_accuracy: 0.7741\n",
            "Epoch 5/20\n",
            "15/15 [==============================] - 1s 87ms/step - loss: 0.6149 - accuracy: 0.8608 - val_loss: 1.0086 - val_accuracy: 0.7791\n",
            "Epoch 6/20\n",
            "15/15 [==============================] - 1s 89ms/step - loss: 0.4781 - accuracy: 0.8981 - val_loss: 1.0548 - val_accuracy: 0.7769\n",
            "Epoch 7/20\n",
            "15/15 [==============================] - 1s 89ms/step - loss: 0.3877 - accuracy: 0.9164 - val_loss: 0.9194 - val_accuracy: 0.8069\n",
            "Epoch 8/20\n",
            "15/15 [==============================] - 1s 88ms/step - loss: 0.3256 - accuracy: 0.9283 - val_loss: 1.0836 - val_accuracy: 0.7618\n",
            "Epoch 9/20\n",
            "15/15 [==============================] - 1s 90ms/step - loss: 0.2780 - accuracy: 0.9365 - val_loss: 0.9157 - val_accuracy: 0.7902\n",
            "Epoch 10/20\n",
            "15/15 [==============================] - 1s 89ms/step - loss: 0.2434 - accuracy: 0.9463 - val_loss: 0.9525 - val_accuracy: 0.7858\n",
            "Epoch 11/20\n",
            "15/15 [==============================] - 2s 145ms/step - loss: 0.1988 - accuracy: 0.9510 - val_loss: 0.9681 - val_accuracy: 0.7991\n",
            "Epoch 12/20\n",
            "15/15 [==============================] - 1s 88ms/step - loss: 0.1802 - accuracy: 0.9550 - val_loss: 0.9042 - val_accuracy: 0.8119\n",
            "Epoch 13/20\n",
            "15/15 [==============================] - 1s 90ms/step - loss: 0.1587 - accuracy: 0.9602 - val_loss: 1.0805 - val_accuracy: 0.7757\n",
            "Epoch 14/20\n",
            "15/15 [==============================] - 2s 103ms/step - loss: 0.1523 - accuracy: 0.9578 - val_loss: 0.9562 - val_accuracy: 0.8058\n",
            "Epoch 15/20\n",
            "15/15 [==============================] - 1s 87ms/step - loss: 0.1367 - accuracy: 0.9619 - val_loss: 1.0889 - val_accuracy: 0.7785\n",
            "71/71 [==============================] - 0s 5ms/step - loss: 1.1332 - accuracy: 0.7685\n",
            "Test accuracy: 76.85%\n"
          ]
        }
      ]
    },
    {
      "cell_type": "markdown",
      "source": [
        "❓❓❓\n",
        "\n",
        "¿Cómo interpretamos estos resultados?¿Son buenos o malos?\n",
        "\n",
        "❓❓❓\n",
        "\n"
      ],
      "metadata": {
        "id": "mst5EBn2Uc7g"
      }
    },
    {
      "cell_type": "markdown",
      "source": [
        "# Respuesta ✅"
      ],
      "metadata": {
        "id": "pgn4P9qf6PP6"
      }
    },
    {
      "cell_type": "markdown",
      "source": [
        "Los resultados del entrenamiento indican que el modelo está mejorando a lo largo de las épocas, ya que tanto la precisión del entrenamiento como la de la validación están aumentando, mientras que la pérdida del entrenamiento y la validación están disminuyendo. Esto sugiere que el modelo está aprendiendo a generalizar a nuevos datos, ya que se está desempeñando bien tanto en los conjuntos de entrenamiento como en los de validación.\n",
        "\n",
        "La precisión de la prueba del 79,70 % sugiere que el modelo puede clasificar correctamente el 79,70 % de las muestras del conjunto de prueba, lo que representa un rendimiento razonablemente bueno para un problema de clasificación de varias clases con 46 clases.\n",
        "\n",
        "En general, los resultados son buenos, pero podrían mejorarse experimentando con diferentes arquitecturas, hiperparámetros o técnicas de optimización."
      ],
      "metadata": {
        "id": "qFkgr9Ga6o82"
      }
    },
    {
      "cell_type": "code",
      "execution_count": 49,
      "metadata": {
        "id": "juOFfWi_1myd",
        "colab": {
          "base_uri": "https://localhost:8080/"
        },
        "outputId": "f8d01cd4-042d-4ab2-9080-1a0b371c3aea"
      },
      "outputs": [
        {
          "output_type": "execute_result",
          "data": {
            "text/plain": [
              "0.18432769367764915"
            ]
          },
          "metadata": {},
          "execution_count": 49
        }
      ],
      "source": [
        "import copy\n",
        "test_labels_copy = copy.copy(test_labels)\n",
        "np.random.shuffle(test_labels_copy)\n",
        "hits_array = np.array(test_labels) == np.array(test_labels_copy)\n",
        "hits_array.mean()"
      ]
    },
    {
      "cell_type": "markdown",
      "metadata": {
        "id": "Q94bXtLT1mye"
      },
      "source": [
        "### Generar predicciones/salidas sobre datos nuevos"
      ]
    },
    {
      "cell_type": "code",
      "execution_count": 50,
      "metadata": {
        "id": "EAQaejdJ1myf",
        "colab": {
          "base_uri": "https://localhost:8080/"
        },
        "outputId": "27fe8b34-c1d4-426b-e467-364b5b7ce8d3"
      },
      "outputs": [
        {
          "output_type": "stream",
          "name": "stdout",
          "text": [
            "71/71 [==============================] - 0s 5ms/step\n"
          ]
        }
      ],
      "source": [
        "predictions = model.predict(x_test)"
      ]
    },
    {
      "cell_type": "code",
      "execution_count": 51,
      "metadata": {
        "id": "XtohTpSq1myf",
        "colab": {
          "base_uri": "https://localhost:8080/"
        },
        "outputId": "7a23b6ca-08ed-4232-cd47-cd90f8eb10d0"
      },
      "outputs": [
        {
          "output_type": "execute_result",
          "data": {
            "text/plain": [
              "(46,)"
            ]
          },
          "metadata": {},
          "execution_count": 51
        }
      ],
      "source": [
        "predictions[0].shape"
      ]
    },
    {
      "cell_type": "code",
      "execution_count": 52,
      "metadata": {
        "id": "LAgm1PrJ1myf",
        "colab": {
          "base_uri": "https://localhost:8080/"
        },
        "outputId": "e5d74c6e-e55e-44e2-c9e3-a0aaf1036129"
      },
      "outputs": [
        {
          "output_type": "execute_result",
          "data": {
            "text/plain": [
              "1.0"
            ]
          },
          "metadata": {},
          "execution_count": 52
        }
      ],
      "source": [
        "np.sum(predictions[0])"
      ]
    },
    {
      "cell_type": "code",
      "execution_count": 53,
      "metadata": {
        "id": "fEJ7CvkD1myf",
        "colab": {
          "base_uri": "https://localhost:8080/"
        },
        "outputId": "a5e3f05f-c7c8-4cac-dcf0-a622ae1f6b61"
      },
      "outputs": [
        {
          "output_type": "execute_result",
          "data": {
            "text/plain": [
              "3"
            ]
          },
          "metadata": {},
          "execution_count": 53
        }
      ],
      "source": [
        "np.argmax(predictions[0])"
      ]
    },
    {
      "cell_type": "markdown",
      "metadata": {
        "id": "TK-tg4q71myg"
      },
      "source": [
        "### Otra forma de codificar las etiquetas y la pérdida"
      ]
    },
    {
      "cell_type": "markdown",
      "source": [
        "Como tensor entero: "
      ],
      "metadata": {
        "id": "BoiFe-JovsFi"
      }
    },
    {
      "cell_type": "code",
      "execution_count": 54,
      "metadata": {
        "id": "t8vNpCwE1myg"
      },
      "outputs": [],
      "source": [
        "y_train = np.array(train_labels)\n",
        "y_test = np.array(test_labels)"
      ]
    },
    {
      "cell_type": "markdown",
      "source": [
        "Esta variante necesita una función de pérdida diferente:"
      ],
      "metadata": {
        "id": "GWIxQbdxvwJ-"
      }
    },
    {
      "cell_type": "code",
      "execution_count": 55,
      "metadata": {
        "id": "aid9bp9O1myg"
      },
      "outputs": [],
      "source": [
        "model.compile(optimizer=\"rmsprop\",\n",
        "              loss=\"sparse_categorical_crossentropy\",\n",
        "              metrics=[\"accuracy\"])"
      ]
    },
    {
      "cell_type": "markdown",
      "metadata": {
        "id": "ODofptSV1myg"
      },
      "source": [
        "### La importancia de tener capas intermedias suficientemente grandes\n",
        "\n",
        "grandes ➡ anchas\n",
        "\n",
        "Antes hemos mencionado que, como la capa de salida tiene 46 dimensiones, hay que evitar las capas intermedias con muchas menos de 46 unidades. Veamos qué sucede cuando introducimos un “cuello de botella” de información al tener capas intermedias que son significativamente menos de 46 dimensiones: por ejemplo, de 4 dimensiones."
      ]
    },
    {
      "cell_type": "markdown",
      "metadata": {
        "id": "NTj_ju8-1myh"
      },
      "source": [
        "**Ejemplo de modelo con un cuello de botella**"
      ]
    },
    {
      "cell_type": "code",
      "execution_count": 56,
      "metadata": {
        "id": "zFp09jNk1myh",
        "colab": {
          "base_uri": "https://localhost:8080/"
        },
        "outputId": "ea6164a3-6129-4846-875d-b0bda6893381"
      },
      "outputs": [
        {
          "output_type": "stream",
          "name": "stdout",
          "text": [
            "Epoch 1/20\n",
            "63/63 [==============================] - 1s 14ms/step - loss: 2.5649 - accuracy: 0.4168 - val_loss: 1.8106 - val_accuracy: 0.5910\n",
            "Epoch 2/20\n",
            "63/63 [==============================] - 1s 11ms/step - loss: 1.5706 - accuracy: 0.6206 - val_loss: 1.4633 - val_accuracy: 0.6490\n",
            "Epoch 3/20\n",
            "63/63 [==============================] - 1s 11ms/step - loss: 1.3121 - accuracy: 0.6848 - val_loss: 1.3765 - val_accuracy: 0.6700\n",
            "Epoch 4/20\n",
            "63/63 [==============================] - 1s 15ms/step - loss: 1.1718 - accuracy: 0.7162 - val_loss: 1.3027 - val_accuracy: 0.6920\n",
            "Epoch 5/20\n",
            "63/63 [==============================] - 1s 18ms/step - loss: 1.0693 - accuracy: 0.7395 - val_loss: 1.2785 - val_accuracy: 0.7030\n",
            "Epoch 6/20\n",
            "63/63 [==============================] - 1s 13ms/step - loss: 0.9894 - accuracy: 0.7507 - val_loss: 1.2857 - val_accuracy: 0.6910\n",
            "Epoch 7/20\n",
            "63/63 [==============================] - 1s 11ms/step - loss: 0.9211 - accuracy: 0.7588 - val_loss: 1.2851 - val_accuracy: 0.6980\n",
            "Epoch 8/20\n",
            "63/63 [==============================] - 1s 11ms/step - loss: 0.8609 - accuracy: 0.7671 - val_loss: 1.2820 - val_accuracy: 0.7040\n",
            "Epoch 9/20\n",
            "63/63 [==============================] - 1s 11ms/step - loss: 0.8122 - accuracy: 0.7780 - val_loss: 1.2843 - val_accuracy: 0.7070\n",
            "Epoch 10/20\n",
            "63/63 [==============================] - 1s 11ms/step - loss: 0.7653 - accuracy: 0.7883 - val_loss: 1.2995 - val_accuracy: 0.6980\n",
            "Epoch 11/20\n",
            "63/63 [==============================] - 1s 11ms/step - loss: 0.7279 - accuracy: 0.7925 - val_loss: 1.2973 - val_accuracy: 0.7000\n",
            "Epoch 12/20\n",
            "63/63 [==============================] - 1s 11ms/step - loss: 0.6887 - accuracy: 0.7992 - val_loss: 1.3340 - val_accuracy: 0.6970\n",
            "Epoch 13/20\n",
            "63/63 [==============================] - 1s 11ms/step - loss: 0.6583 - accuracy: 0.8034 - val_loss: 1.3750 - val_accuracy: 0.6930\n",
            "Epoch 14/20\n",
            "63/63 [==============================] - 1s 12ms/step - loss: 0.6303 - accuracy: 0.8076 - val_loss: 1.3900 - val_accuracy: 0.7000\n",
            "Epoch 15/20\n",
            "63/63 [==============================] - 1s 11ms/step - loss: 0.6039 - accuracy: 0.8140 - val_loss: 1.4636 - val_accuracy: 0.6990\n",
            "Epoch 16/20\n",
            "63/63 [==============================] - 1s 11ms/step - loss: 0.5820 - accuracy: 0.8207 - val_loss: 1.4545 - val_accuracy: 0.7030\n",
            "Epoch 17/20\n",
            "63/63 [==============================] - 1s 15ms/step - loss: 0.5587 - accuracy: 0.8311 - val_loss: 1.4988 - val_accuracy: 0.7120\n",
            "Epoch 18/20\n",
            "63/63 [==============================] - 1s 15ms/step - loss: 0.5389 - accuracy: 0.8380 - val_loss: 1.5389 - val_accuracy: 0.7040\n",
            "Epoch 19/20\n",
            "63/63 [==============================] - 1s 13ms/step - loss: 0.5186 - accuracy: 0.8462 - val_loss: 1.5861 - val_accuracy: 0.7130\n",
            "Epoch 20/20\n",
            "63/63 [==============================] - 1s 18ms/step - loss: 0.5026 - accuracy: 0.8554 - val_loss: 1.6204 - val_accuracy: 0.7070\n"
          ]
        },
        {
          "output_type": "execute_result",
          "data": {
            "text/plain": [
              "<keras.callbacks.History at 0x7f86d234ecd0>"
            ]
          },
          "metadata": {},
          "execution_count": 56
        }
      ],
      "source": [
        "model = keras.Sequential([\n",
        "    layers.Dense(64, activation=\"relu\"),\n",
        "    layers.Dense(4, activation=\"relu\"),\n",
        "    layers.Dense(46, activation=\"softmax\")\n",
        "])\n",
        "model.compile(optimizer=\"rmsprop\",\n",
        "              loss=\"categorical_crossentropy\",\n",
        "              metrics=[\"accuracy\"])\n",
        "model.fit(partial_x_train,\n",
        "          partial_y_train,\n",
        "          epochs=20,\n",
        "          batch_size=128,\n",
        "          validation_data=(x_val, y_val))"
      ]
    },
    {
      "cell_type": "markdown",
      "metadata": {
        "id": "ag9Mu-uP1myh"
      },
      "source": [
        "### Experimentos adicionales\n",
        "\n",
        "Utilizando lo que hemos visto y tú intuición, prueba lo siguiente: \n",
        "* Visualiza métricas de train y validación.\n",
        "* Prueba capas ocultas de diferente tamaño: 32, 128, etc. \n",
        "* Prueba diferente número de capas intermedias. \n",
        "\n",
        "¿Cuáles son los parámetros óptimos de tu modelo?"
      ]
    },
    {
      "cell_type": "markdown",
      "metadata": {
        "id": "311b1zw51myh"
      },
      "source": [
        "### Resumen\n",
        "\n",
        "* ¿Cuántas neuronas de salida tienen los modelos anteriores? \n",
        "* ¿Cuándo utilizamos la función softmax y cuándo la sigmoide?\n",
        "* ¿Qué opciones tenemos para representar las etiquetas en un problema multiclase?\n",
        "* ¿Qué principios podemos seguir para diseñar la arquitectura de la red?"
      ]
    },
    {
      "cell_type": "markdown",
      "metadata": {
        "id": "xqY_xZ4L1myi"
      },
      "source": [
        "## Predicting house prices: A regression example"
      ]
    },
    {
      "cell_type": "markdown",
      "metadata": {
        "id": "TFZ_2T6j1myi"
      },
      "source": [
        "### The Boston Housing Price dataset"
      ]
    },
    {
      "cell_type": "markdown",
      "metadata": {
        "id": "hrYgVBp-1myi"
      },
      "source": [
        "**Loading the Boston housing dataset**"
      ]
    },
    {
      "cell_type": "code",
      "execution_count": 57,
      "metadata": {
        "id": "eihgD4Iy1myi",
        "colab": {
          "base_uri": "https://localhost:8080/"
        },
        "outputId": "eecc4cbb-938d-4c9e-afd5-8bbaec4b2f86"
      },
      "outputs": [
        {
          "output_type": "stream",
          "name": "stdout",
          "text": [
            "Downloading data from https://storage.googleapis.com/tensorflow/tf-keras-datasets/boston_housing.npz\n",
            "57026/57026 [==============================] - 0s 0us/step\n"
          ]
        }
      ],
      "source": [
        "from tensorflow.keras.datasets import boston_housing\n",
        "(train_data, train_targets), (test_data, test_targets) = boston_housing.load_data()"
      ]
    },
    {
      "cell_type": "code",
      "execution_count": 58,
      "metadata": {
        "id": "9aDEBWdp1myj",
        "colab": {
          "base_uri": "https://localhost:8080/"
        },
        "outputId": "84dfcdbf-0e92-4c8c-e28e-dcbb63c11e7b"
      },
      "outputs": [
        {
          "output_type": "execute_result",
          "data": {
            "text/plain": [
              "(404, 13)"
            ]
          },
          "metadata": {},
          "execution_count": 58
        }
      ],
      "source": [
        "train_data.shape"
      ]
    },
    {
      "cell_type": "code",
      "execution_count": 59,
      "metadata": {
        "id": "qzm3r8es1myj",
        "colab": {
          "base_uri": "https://localhost:8080/"
        },
        "outputId": "555a9707-6da9-4828-c99e-e2e3a94a784d"
      },
      "outputs": [
        {
          "output_type": "execute_result",
          "data": {
            "text/plain": [
              "(102, 13)"
            ]
          },
          "metadata": {},
          "execution_count": 59
        }
      ],
      "source": [
        "test_data.shape"
      ]
    },
    {
      "cell_type": "code",
      "execution_count": 60,
      "metadata": {
        "id": "ynUIVxy01myj",
        "colab": {
          "base_uri": "https://localhost:8080/"
        },
        "outputId": "0685224f-2886-4819-9aed-7858048fb191"
      },
      "outputs": [
        {
          "output_type": "execute_result",
          "data": {
            "text/plain": [
              "array([15.2, 42.3, 50. , 21.1, 17.7, 18.5, 11.3, 15.6, 15.6, 14.4, 12.1,\n",
              "       17.9, 23.1, 19.9, 15.7,  8.8, 50. , 22.5, 24.1, 27.5, 10.9, 30.8,\n",
              "       32.9, 24. , 18.5, 13.3, 22.9, 34.7, 16.6, 17.5, 22.3, 16.1, 14.9,\n",
              "       23.1, 34.9, 25. , 13.9, 13.1, 20.4, 20. , 15.2, 24.7, 22.2, 16.7,\n",
              "       12.7, 15.6, 18.4, 21. , 30.1, 15.1, 18.7,  9.6, 31.5, 24.8, 19.1,\n",
              "       22. , 14.5, 11. , 32. , 29.4, 20.3, 24.4, 14.6, 19.5, 14.1, 14.3,\n",
              "       15.6, 10.5,  6.3, 19.3, 19.3, 13.4, 36.4, 17.8, 13.5, 16.5,  8.3,\n",
              "       14.3, 16. , 13.4, 28.6, 43.5, 20.2, 22. , 23. , 20.7, 12.5, 48.5,\n",
              "       14.6, 13.4, 23.7, 50. , 21.7, 39.8, 38.7, 22.2, 34.9, 22.5, 31.1,\n",
              "       28.7, 46. , 41.7, 21. , 26.6, 15. , 24.4, 13.3, 21.2, 11.7, 21.7,\n",
              "       19.4, 50. , 22.8, 19.7, 24.7, 36.2, 14.2, 18.9, 18.3, 20.6, 24.6,\n",
              "       18.2,  8.7, 44. , 10.4, 13.2, 21.2, 37. , 30.7, 22.9, 20. , 19.3,\n",
              "       31.7, 32. , 23.1, 18.8, 10.9, 50. , 19.6,  5. , 14.4, 19.8, 13.8,\n",
              "       19.6, 23.9, 24.5, 25. , 19.9, 17.2, 24.6, 13.5, 26.6, 21.4, 11.9,\n",
              "       22.6, 19.6,  8.5, 23.7, 23.1, 22.4, 20.5, 23.6, 18.4, 35.2, 23.1,\n",
              "       27.9, 20.6, 23.7, 28. , 13.6, 27.1, 23.6, 20.6, 18.2, 21.7, 17.1,\n",
              "        8.4, 25.3, 13.8, 22.2, 18.4, 20.7, 31.6, 30.5, 20.3,  8.8, 19.2,\n",
              "       19.4, 23.1, 23. , 14.8, 48.8, 22.6, 33.4, 21.1, 13.6, 32.2, 13.1,\n",
              "       23.4, 18.9, 23.9, 11.8, 23.3, 22.8, 19.6, 16.7, 13.4, 22.2, 20.4,\n",
              "       21.8, 26.4, 14.9, 24.1, 23.8, 12.3, 29.1, 21. , 19.5, 23.3, 23.8,\n",
              "       17.8, 11.5, 21.7, 19.9, 25. , 33.4, 28.5, 21.4, 24.3, 27.5, 33.1,\n",
              "       16.2, 23.3, 48.3, 22.9, 22.8, 13.1, 12.7, 22.6, 15. , 15.3, 10.5,\n",
              "       24. , 18.5, 21.7, 19.5, 33.2, 23.2,  5. , 19.1, 12.7, 22.3, 10.2,\n",
              "       13.9, 16.3, 17. , 20.1, 29.9, 17.2, 37.3, 45.4, 17.8, 23.2, 29. ,\n",
              "       22. , 18. , 17.4, 34.6, 20.1, 25. , 15.6, 24.8, 28.2, 21.2, 21.4,\n",
              "       23.8, 31. , 26.2, 17.4, 37.9, 17.5, 20. ,  8.3, 23.9,  8.4, 13.8,\n",
              "        7.2, 11.7, 17.1, 21.6, 50. , 16.1, 20.4, 20.6, 21.4, 20.6, 36.5,\n",
              "        8.5, 24.8, 10.8, 21.9, 17.3, 18.9, 36.2, 14.9, 18.2, 33.3, 21.8,\n",
              "       19.7, 31.6, 24.8, 19.4, 22.8,  7.5, 44.8, 16.8, 18.7, 50. , 50. ,\n",
              "       19.5, 20.1, 50. , 17.2, 20.8, 19.3, 41.3, 20.4, 20.5, 13.8, 16.5,\n",
              "       23.9, 20.6, 31.5, 23.3, 16.8, 14. , 33.8, 36.1, 12.8, 18.3, 18.7,\n",
              "       19.1, 29. , 30.1, 50. , 50. , 22. , 11.9, 37.6, 50. , 22.7, 20.8,\n",
              "       23.5, 27.9, 50. , 19.3, 23.9, 22.6, 15.2, 21.7, 19.2, 43.8, 20.3,\n",
              "       33.2, 19.9, 22.5, 32.7, 22. , 17.1, 19. , 15. , 16.1, 25.1, 23.7,\n",
              "       28.7, 37.2, 22.6, 16.4, 25. , 29.8, 22.1, 17.4, 18.1, 30.3, 17.5,\n",
              "       24.7, 12.6, 26.5, 28.7, 13.3, 10.4, 24.4, 23. , 20. , 17.8,  7. ,\n",
              "       11.8, 24.4, 13.8, 19.4, 25.2, 19.4, 19.4, 29.1])"
            ]
          },
          "metadata": {},
          "execution_count": 60
        }
      ],
      "source": [
        "train_targets"
      ]
    },
    {
      "cell_type": "markdown",
      "metadata": {
        "id": "cIPNa5Sx1myj"
      },
      "source": [
        "### Preparing the data"
      ]
    },
    {
      "cell_type": "markdown",
      "metadata": {
        "id": "o0YtPoj41myj"
      },
      "source": [
        "**Normalizing the data**"
      ]
    },
    {
      "cell_type": "code",
      "execution_count": 61,
      "metadata": {
        "id": "td83THb81myk"
      },
      "outputs": [],
      "source": [
        "mean = train_data.mean(axis=0)\n",
        "train_data -= mean\n",
        "std = train_data.std(axis=0)\n",
        "train_data /= std\n",
        "test_data -= mean\n",
        "test_data /= std"
      ]
    },
    {
      "cell_type": "markdown",
      "metadata": {
        "id": "_BFJFGC81myk"
      },
      "source": [
        "### Building your model"
      ]
    },
    {
      "cell_type": "markdown",
      "metadata": {
        "id": "q47W9G3d1myk"
      },
      "source": [
        "**Model definition**"
      ]
    },
    {
      "cell_type": "code",
      "execution_count": 62,
      "metadata": {
        "id": "tVLzDB4x1myl"
      },
      "outputs": [],
      "source": [
        "def build_model():\n",
        "    model = keras.Sequential([\n",
        "        layers.Dense(64, activation=\"relu\"),\n",
        "        layers.Dense(64, activation=\"relu\"),\n",
        "        layers.Dense(1)\n",
        "    ])\n",
        "    model.compile(optimizer=\"rmsprop\", loss=\"mse\", metrics=[\"mae\"])\n",
        "    return model"
      ]
    },
    {
      "cell_type": "markdown",
      "metadata": {
        "id": "8pqKBQ6D1mym"
      },
      "source": [
        "### Validating your approach using K-fold validation"
      ]
    },
    {
      "cell_type": "markdown",
      "metadata": {
        "id": "Avok49lt1mym"
      },
      "source": [
        "**K-fold validation**"
      ]
    },
    {
      "cell_type": "code",
      "execution_count": 63,
      "metadata": {
        "id": "nejGQzLV1myn",
        "colab": {
          "base_uri": "https://localhost:8080/"
        },
        "outputId": "c65e9645-6b64-46ff-cac8-4e15f0090bc4"
      },
      "outputs": [
        {
          "output_type": "stream",
          "name": "stdout",
          "text": [
            "Processing fold #0\n",
            "Processing fold #1\n",
            "Processing fold #2\n",
            "Processing fold #3\n"
          ]
        }
      ],
      "source": [
        "k = 4\n",
        "num_val_samples = len(train_data) // k\n",
        "num_epochs = 100\n",
        "all_scores = []\n",
        "for i in range(k):\n",
        "    print(f\"Processing fold #{i}\")\n",
        "    val_data = train_data[i * num_val_samples: (i + 1) * num_val_samples]\n",
        "    val_targets = train_targets[i * num_val_samples: (i + 1) * num_val_samples]\n",
        "    partial_train_data = np.concatenate(\n",
        "        [train_data[:i * num_val_samples],\n",
        "         train_data[(i + 1) * num_val_samples:]],\n",
        "        axis=0)\n",
        "    partial_train_targets = np.concatenate(\n",
        "        [train_targets[:i * num_val_samples],\n",
        "         train_targets[(i + 1) * num_val_samples:]],\n",
        "        axis=0)\n",
        "    model = build_model()\n",
        "    model.fit(partial_train_data, partial_train_targets,\n",
        "              epochs=num_epochs, batch_size=16, verbose=0)\n",
        "    val_mse, val_mae = model.evaluate(val_data, val_targets, verbose=0)\n",
        "    all_scores.append(val_mae)"
      ]
    },
    {
      "cell_type": "code",
      "execution_count": 64,
      "metadata": {
        "id": "lmrV6h571myn",
        "colab": {
          "base_uri": "https://localhost:8080/"
        },
        "outputId": "4b4b42f3-34fd-40d2-e5e7-df783a6729a1"
      },
      "outputs": [
        {
          "output_type": "execute_result",
          "data": {
            "text/plain": [
              "[1.846194863319397, 2.3232979774475098, 2.622314453125, 2.3375539779663086]"
            ]
          },
          "metadata": {},
          "execution_count": 64
        }
      ],
      "source": [
        "all_scores"
      ]
    },
    {
      "cell_type": "code",
      "execution_count": 65,
      "metadata": {
        "id": "74911o551myo",
        "colab": {
          "base_uri": "https://localhost:8080/"
        },
        "outputId": "d99ce00c-5cd7-42ae-d4d0-4551d7d243a1"
      },
      "outputs": [
        {
          "output_type": "execute_result",
          "data": {
            "text/plain": [
              "2.282340317964554"
            ]
          },
          "metadata": {},
          "execution_count": 65
        }
      ],
      "source": [
        "np.mean(all_scores)"
      ]
    },
    {
      "cell_type": "markdown",
      "metadata": {
        "id": "NGAQeucj1myp"
      },
      "source": [
        "**Saving the validation logs at each fold**"
      ]
    },
    {
      "cell_type": "code",
      "execution_count": 66,
      "metadata": {
        "id": "2254TmW_1myp",
        "colab": {
          "base_uri": "https://localhost:8080/"
        },
        "outputId": "8bd99ad8-79fa-4f54-c0f7-21a32d1cedd5"
      },
      "outputs": [
        {
          "output_type": "stream",
          "name": "stdout",
          "text": [
            "Processing fold #0\n",
            "Processing fold #1\n",
            "Processing fold #2\n",
            "Processing fold #3\n"
          ]
        }
      ],
      "source": [
        "num_epochs = 500\n",
        "all_mae_histories = []\n",
        "for i in range(k):\n",
        "    print(f\"Processing fold #{i}\")\n",
        "    val_data = train_data[i * num_val_samples: (i + 1) * num_val_samples]\n",
        "    val_targets = train_targets[i * num_val_samples: (i + 1) * num_val_samples]\n",
        "    partial_train_data = np.concatenate(\n",
        "        [train_data[:i * num_val_samples],\n",
        "         train_data[(i + 1) * num_val_samples:]],\n",
        "        axis=0)\n",
        "    partial_train_targets = np.concatenate(\n",
        "        [train_targets[:i * num_val_samples],\n",
        "         train_targets[(i + 1) * num_val_samples:]],\n",
        "        axis=0)\n",
        "    model = build_model()\n",
        "    history = model.fit(partial_train_data, partial_train_targets,\n",
        "                        validation_data=(val_data, val_targets),\n",
        "                        epochs=num_epochs, batch_size=16, verbose=0)\n",
        "    mae_history = history.history[\"val_mae\"]\n",
        "    all_mae_histories.append(mae_history)"
      ]
    },
    {
      "cell_type": "markdown",
      "metadata": {
        "id": "FQ0-pF841myp"
      },
      "source": [
        "**Building the history of successive mean K-fold validation scores**"
      ]
    },
    {
      "cell_type": "code",
      "execution_count": 67,
      "metadata": {
        "id": "44pN0JJc1myp"
      },
      "outputs": [],
      "source": [
        "average_mae_history = [\n",
        "    np.mean([x[i] for x in all_mae_histories]) for i in range(num_epochs)]"
      ]
    },
    {
      "cell_type": "markdown",
      "metadata": {
        "id": "OTGSjsLn1myp"
      },
      "source": [
        "**Plotting validation scores**"
      ]
    },
    {
      "cell_type": "code",
      "execution_count": 68,
      "metadata": {
        "id": "SsBpF6Jf1myq",
        "colab": {
          "base_uri": "https://localhost:8080/",
          "height": 450
        },
        "outputId": "aa5e13a3-ffa1-4bae-ede3-79cee46ee03e"
      },
      "outputs": [
        {
          "output_type": "display_data",
          "data": {
            "text/plain": [
              "<Figure size 640x480 with 1 Axes>"
            ],
            "image/png": "[encoded data removed]"
          },
          "metadata": {}
        }
      ],
      "source": [
        "plt.plot(range(1, len(average_mae_history) + 1), average_mae_history)\n",
        "plt.xlabel(\"Epochs\")\n",
        "plt.ylabel(\"Validation MAE\")\n",
        "plt.show()"
      ]
    },
    {
      "cell_type": "markdown",
      "metadata": {
        "id": "HwmNPvd-1myq"
      },
      "source": [
        "**Plotting validation scores, excluding the first 10 data points**"
      ]
    },
    {
      "cell_type": "code",
      "execution_count": 69,
      "metadata": {
        "id": "06QWIMxu1myq",
        "colab": {
          "base_uri": "https://localhost:8080/",
          "height": 449
        },
        "outputId": "059dad5a-ff6c-4ca1-9f4c-7db6d8a75af4"
      },
      "outputs": [
        {
          "output_type": "display_data",
          "data": {
            "text/plain": [
              "<Figure size 640x480 with 1 Axes>"
            ],
            "image/png": "[encoded data removed]"
          },
          "metadata": {}
        }
      ],
      "source": [
        "truncated_mae_history = average_mae_history[10:]\n",
        "plt.plot(range(1, len(truncated_mae_history) + 1), truncated_mae_history)\n",
        "plt.xlabel(\"Epochs\")\n",
        "plt.ylabel(\"Validation MAE\")\n",
        "plt.show()"
      ]
    },
    {
      "cell_type": "markdown",
      "metadata": {
        "id": "oPAs14at1myq"
      },
      "source": [
        "**Training the final model**"
      ]
    },
    {
      "cell_type": "code",
      "execution_count": 70,
      "metadata": {
        "id": "NV_Pi7qj1myq",
        "colab": {
          "base_uri": "https://localhost:8080/"
        },
        "outputId": "fcc93ef2-cf27-4e40-fdc0-4ac5a76a646c"
      },
      "outputs": [
        {
          "output_type": "stream",
          "name": "stdout",
          "text": [
            "4/4 [==============================] - 0s 2ms/step - loss: 14.4952 - mae: 2.4699\n"
          ]
        }
      ],
      "source": [
        "model = build_model()\n",
        "model.fit(train_data, train_targets,\n",
        "          epochs=130, batch_size=16, verbose=0)\n",
        "test_mse_score, test_mae_score = model.evaluate(test_data, test_targets)"
      ]
    },
    {
      "cell_type": "code",
      "execution_count": 71,
      "metadata": {
        "id": "G-yemMY_1myq",
        "colab": {
          "base_uri": "https://localhost:8080/"
        },
        "outputId": "7f0a71f3-c693-4806-cdee-23c7423af074"
      },
      "outputs": [
        {
          "output_type": "execute_result",
          "data": {
            "text/plain": [
              "2.469876766204834"
            ]
          },
          "metadata": {},
          "execution_count": 71
        }
      ],
      "source": [
        "test_mae_score"
      ]
    },
    {
      "cell_type": "markdown",
      "metadata": {
        "id": "vEY4UapQ1myr"
      },
      "source": [
        "### Generating predictions on new data"
      ]
    },
    {
      "cell_type": "code",
      "execution_count": 72,
      "metadata": {
        "id": "3N4RSnQ-1myr",
        "colab": {
          "base_uri": "https://localhost:8080/"
        },
        "outputId": "fc691715-3f1c-4f96-8a53-026de50fbb85"
      },
      "outputs": [
        {
          "output_type": "stream",
          "name": "stdout",
          "text": [
            "4/4 [==============================] - 0s 2ms/step\n"
          ]
        },
        {
          "output_type": "execute_result",
          "data": {
            "text/plain": [
              "array([7.5213], dtype=float32)"
            ]
          },
          "metadata": {},
          "execution_count": 72
        }
      ],
      "source": [
        "predictions = model.predict(test_data)\n",
        "predictions[0]"
      ]
    },
    {
      "cell_type": "markdown",
      "metadata": {
        "id": "Ts7g3vUx1myr"
      },
      "source": [
        "### Wrapping up"
      ]
    },
    {
      "cell_type": "markdown",
      "metadata": {
        "id": "Q4rIX0jb1myr"
      },
      "source": [
        "## Summary"
      ]
    }
  ],
  "metadata": {
    "colab": {
      "provenance": []
    },
    "kernelspec": {
      "display_name": "Python 3",
      "language": "python",
      "name": "python3"
    },
    "language_info": {
      "codemirror_mode": {
        "name": "ipython",
        "version": 3
      },
      "file_extension": ".py",
      "mimetype": "text/x-python",
      "name": "python",
      "nbconvert_exporter": "python",
      "pygments_lexer": "ipython3",
      "version": "3.7.0"
    }
  },
  "nbformat": 4,
  "nbformat_minor": 0
}