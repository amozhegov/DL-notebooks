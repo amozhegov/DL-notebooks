{
  "nbformat": 4,
  "nbformat_minor": 0,
  "metadata": {
    "colab": {
      "provenance": []
    },
    "kernelspec": {
      "name": "python3",
      "display_name": "Python 3"
    },
    "language_info": {
      "name": "python"
    }
  },
  "cells": [
    {
      "cell_type": "markdown",
      "source": [
        "\n",
        "#The Mathematical Building Blocks of Deep Learning (Part II)"
      ],
      "metadata": {
        "id": "xcyHEE6RSDxN"
      }
    },
    {
      "cell_type": "markdown",
      "source": [
        "In this notebook we are going to see: \n",
        "\n",
        "An example of a neural network The tensor concept and operations with tensors How neural networks learn through the backpropagation algorithm and gradient descent \n",
        "\n",
        "EXERCISES: During this practice notebook you will see exercises and questions marked with ❓ ❓❓. \n",
        "\n",
        "You can answer by adding new blocks of (brief) text and/or code after the question."
      ],
      "metadata": {
        "id": "QYSEx924SOCV"
      }
    },
    {
      "cell_type": "markdown",
      "source": [
        "#Dense Class\n",
        "The Dense class implements the following transformation of the input data where W and b are the model data:\n",
        "\n",
        "`output = activation(dot(W, input) + b)`\n",
        "\n",
        "\n",
        "Where the activity function is usually relu for hidden layers or softmax in the last layer.\n",
        "\n",
        "Object Orientation Note in Python:\n",
        "\n",
        "The `__init__` method is the class's constructor and is called when creating an instance of the class to assign default values ​​to the class's attributes.\n",
        "The `__call__` method is the method that is called when the class instance is called as if it were a function."
      ],
      "metadata": {
        "id": "GS1vCFcVSY6A"
      }
    },
    {
      "cell_type": "code",
      "source": [
        "import tensorflow as tf\n",
        "\n",
        "class NaiveDense:\n",
        "    def __init__(self, input_size, output_size, activation):\n",
        "        self.activation = activation\n",
        "\n",
        "        w_shape = (input_size, output_size)\n",
        "        w_initial_value = tf.random.uniform(w_shape, minval=0, maxval=1e-1)\n",
        "        self.W = tf.Variable(w_initial_value)\n",
        "\n",
        "        b_shape = (output_size,)\n",
        "        b_initial_value = tf.zeros(b_shape)\n",
        "        self.b = tf.Variable(b_initial_value)\n",
        "\n",
        "    def __call__(self, inputs):\n",
        "        return self.activation(tf.matmul(inputs, self.W) + self.b)\n",
        "\n",
        "    @property\n",
        "    def weights(self):\n",
        "        return [self.W, self.b]"
      ],
      "metadata": {
        "id": "WWFl8mutS1JA"
      },
      "execution_count": null,
      "outputs": []
    },
    {
      "cell_type": "markdown",
      "source": [
        "❓❓❓ Try changing the way the weights are initialized and see the effect. ❓❓❓"
      ],
      "metadata": {
        "id": "IRQwOOAxS497"
      }
    },
    {
      "cell_type": "markdown",
      "source": [
        "✅"
      ],
      "metadata": {
        "id": "c4zRbak0ikUm"
      }
    },
    {
      "cell_type": "code",
      "source": [
        "import tensorflow as tf\n",
        "\n",
        "class NaiveDenseN:\n",
        "    def __init__(self, input_size, output_size, activation):\n",
        "        self.activation = activation\n",
        "\n",
        "        # Change the way weights are initialized\n",
        "        stddev = 1.0 / tf.math.sqrt(float(input_size))\n",
        "        w_shape = (input_size, output_size)\n",
        "        w_initial_value = tf.random.normal(w_shape, mean=0.0, stddev=stddev)\n",
        "        self.W = tf.Variable(w_initial_value)\n",
        "\n",
        "        b_shape = (output_size,)\n",
        "        b_initial_value = tf.zeros(b_shape)\n",
        "        self.b = tf.Variable(b_initial_value)\n",
        "\n",
        "    def __call__(self, inputs):\n",
        "        return self.activation(tf.matmul(inputs, self.W) + self.b)\n",
        "\n",
        "    @property\n",
        "    def weights(self):\n",
        "        return [self.W, self.b]"
      ],
      "metadata": {
        "id": "OuYHnDPvimax"
      },
      "execution_count": null,
      "outputs": []
    },
    {
      "cell_type": "markdown",
      "source": [
        "In this example, we change the way the weights are initialized by using the standard deviation of a Gaussian distribution with mean 0 and standard deviation 1/sqrt(input_size) to initialize the weights. This is a common initialization scheme known as \"Xavier initialization\", which has been shown to work well in practice for many neural networks."
      ],
      "metadata": {
        "id": "FFUe6HLBiodK"
      }
    },
    {
      "cell_type": "markdown",
      "source": [
        "Sequential Class\n",
        "\n",
        "\n",
        "This class will be in charge of chaining the layers. It's going to package up a list of layers and expose a `__call__()` method that simply calls the underlying layers in order."
      ],
      "metadata": {
        "id": "Josbj46US8zh"
      }
    },
    {
      "cell_type": "code",
      "source": [
        "class NaiveSequential:\n",
        "    def __init__(self, layers):\n",
        "        self.layers = layers\n",
        "\n",
        "    def __call__(self, inputs):\n",
        "        x = inputs\n",
        "        for layer in self.layers:\n",
        "           x = layer(x)\n",
        "        return x\n",
        "\n",
        "    @property\n",
        "    def weights(self):\n",
        "       weights = []\n",
        "       for layer in self.layers:\n",
        "           weights += layer.weights\n",
        "       return weights"
      ],
      "metadata": {
        "id": "yii_rSxcTAUV"
      },
      "execution_count": null,
      "outputs": []
    },
    {
      "cell_type": "markdown",
      "source": [
        "Using the NaiveDense and NaiveSequential classes we can create something similar to a Keras model:"
      ],
      "metadata": {
        "id": "ekUjc7MKT1fA"
      }
    },
    {
      "cell_type": "code",
      "source": [
        "model = NaiveSequential([\n",
        "    NaiveDense(input_size=28 * 28, output_size=512, activation=tf.nn.relu),\n",
        "    NaiveDense(input_size=512, output_size=10, activation=tf.nn.softmax)\n",
        "])\n",
        "assert len(model.weights) == 4"
      ],
      "metadata": {
        "id": "orfEjHxaT4ga"
      },
      "execution_count": null,
      "outputs": []
    },
    {
      "cell_type": "markdown",
      "source": [
        "❓❓❓ EXERCISE: Try changing the hidden layer activation function from those available in tf.nn❓❓❓"
      ],
      "metadata": {
        "id": "Hm9LHB7FUAP5"
      }
    },
    {
      "cell_type": "markdown",
      "source": [
        "✅"
      ],
      "metadata": {
        "id": "GgfKgPcGiy7T"
      }
    },
    {
      "cell_type": "code",
      "source": [
        "new_model = NaiveSequential([\n",
        "    NaiveDenseN(input_size=28 * 28, output_size=512, activation=tf.nn.sigmoid),\n",
        "    NaiveDenseN(input_size=512, output_size=10, activation=tf.nn.softmax)\n",
        "])"
      ],
      "metadata": {
        "id": "LwJ1DA4Fi0G7"
      },
      "execution_count": null,
      "outputs": []
    },
    {
      "cell_type": "markdown",
      "source": [
        "Batches\n",
        "\n",
        "\n",
        "This class will allow us to iterate over the training images in mini-batches."
      ],
      "metadata": {
        "id": "4jMTeK7VUOkL"
      }
    },
    {
      "cell_type": "code",
      "execution_count": 3,
      "metadata": {
        "id": "igZC06ERRFcd"
      },
      "outputs": [],
      "source": [
        "import math\n",
        "\n",
        "class BatchGenerator:\n",
        "    def __init__(self, images, labels, batch_size=128):\n",
        "        assert len(images) == len(labels)\n",
        "        self.index = 0\n",
        "        self.images = images\n",
        "        self.labels = labels\n",
        "        self.batch_size = batch_size\n",
        "        self.num_batches = math.ceil(len(images) / batch_size)\n",
        "\n",
        "    def next(self):\n",
        "        images = self.images[self.index : self.index + self.batch_size]\n",
        "        labels = self.labels[self.index : self.index + self.batch_size]\n",
        "        self.index += self.batch_size\n",
        "        return images, labels"
      ]
    },
    {
      "cell_type": "markdown",
      "source": [
        "#Running a Training Step \n",
        "\n",
        "The most difficult part of the process is the \"training step\": updating the model weights after processing a batch of data. We need to: \n",
        "\n",
        "1. Calculate the model predictions for the batch images. \n",
        "2. Calculate the loss value for these predictions, given the actual labels. \n",
        "3. Calculate the gradient of the loss with respect to the model weights. \n",
        "4. Move the weights a small amount in the opposite direction of the gradient. \n",
        "\n",
        "We are going to calculate the gradient with TensorFlow's GradientTape."
      ],
      "metadata": {
        "id": "BDvQDo_0UboI"
      }
    },
    {
      "cell_type": "code",
      "source": [
        "def one_training_step(model, images_batch, labels_batch):\n",
        "    with tf.GradientTape() as tape:\n",
        "        # (1) \n",
        "        predictions = model(images_batch) \n",
        "        # (2)\n",
        "        per_sample_losses = tf.keras.losses.sparse_categorical_crossentropy(\n",
        "            labels_batch, predictions)\n",
        "        # (2)\n",
        "        average_loss = tf.reduce_mean(per_sample_losses)\n",
        "    # (3) \n",
        "    gradients = tape.gradient(average_loss, model.weights)\n",
        "    # (4) \n",
        "    update_weights(gradients, model.weights)\n",
        "    return average_loss"
      ],
      "metadata": {
        "id": "mEhiIK7AU00y"
      },
      "execution_count": null,
      "outputs": []
    },
    {
      "cell_type": "markdown",
      "source": [
        "The `update_weights` function will move the weights \"a bit\" in the direction that reduces loss for this batch. The magnitude of this movement will depend on the `learning_rate` and will be in the opposite direction to the gradient, therefore it is enough to subtract the gradient multiplied by `learning_rate` from the weights to update them.\n",
        "\n",
        "\n",
        "\n",
        "```\n",
        "learning_rate = 1e-3\n",
        "\n",
        "def update_weights(gradients, weights):\n",
        "    for g, w in zip(gradients, weights):\n",
        "        w.assign_sub(g * learning_rate)\n",
        "```\n",
        "\n"
      ],
      "metadata": {
        "id": "SxSa8Po_aQsn"
      }
    },
    {
      "cell_type": "markdown",
      "source": [
        "In practice it will be very rare that we implement the updating of the weights by hand and we will use one of the Keras optimizers:"
      ],
      "metadata": {
        "id": "LvEglndFamri"
      }
    },
    {
      "cell_type": "code",
      "source": [
        "from tensorflow.keras import optimizers\n",
        "\n",
        "optimizer = optimizers.SGD(learning_rate=1e-3)\n",
        "\n",
        "def update_weights(gradients, weights):\n",
        "    optimizer.apply_gradients(zip(gradients, weights))"
      ],
      "metadata": {
        "id": "fa3B_L5Aapgv"
      },
      "execution_count": null,
      "outputs": []
    },
    {
      "cell_type": "markdown",
      "source": [
        "✅"
      ],
      "metadata": {
        "id": "1UAl840kkGbx"
      }
    },
    {
      "cell_type": "code",
      "source": [
        "from tensorflow.keras import optimizers\n",
        "\n",
        "# Replace the SGD optimizer with Adam\n",
        "optimizer = optimizers.Adam(learning_rate=1e-3)\n",
        "\n",
        "def update_weights(gradients, weights):\n",
        "    optimizer.apply_gradients(zip(gradients, weights))"
      ],
      "metadata": {
        "id": "24QI0o7WkFSr"
      },
      "execution_count": null,
      "outputs": []
    },
    {
      "cell_type": "markdown",
      "source": [
        "In this example, we replace the SGD optimizer with the Adam optimizer by creating an Adam optimizer object and passing it to the apply_gradients method of the NaiveDense layer."
      ],
      "metadata": {
        "id": "mcmFZ1y3kJSC"
      }
    },
    {
      "cell_type": "markdown",
      "source": [
        "#The complete learning loop\n",
        "A learning epoch consists of repeating a learning step for each batch of the training set. The entire learning loop is simply the repetition of an epoch."
      ],
      "metadata": {
        "id": "rpolecHxawoh"
      }
    },
    {
      "cell_type": "code",
      "source": [
        "def fit(model, images, labels, epochs, batch_size=128):\n",
        "    for epoch_counter in range(epochs):\n",
        "        print(f\"Epoch {epoch_counter}\")\n",
        "        batch_generator = BatchGenerator(images, labels)\n",
        "        for batch_counter in range(batch_generator.num_batches):\n",
        "            images_batch, labels_batch = batch_generator.next()\n",
        "            loss = one_training_step(model, images_batch, labels_batch)\n",
        "            if batch_counter % 100 == 0:\n",
        "                print(f\"loss at batch {batch_counter}: {loss:.2f}\")"
      ],
      "metadata": {
        "id": "gtSQC-QNa2qe"
      },
      "execution_count": null,
      "outputs": []
    },
    {
      "cell_type": "markdown",
      "source": [
        "Let's test our model:"
      ],
      "metadata": {
        "id": "sAHG7kE5a5lH"
      }
    },
    {
      "cell_type": "code",
      "source": [
        "from tensorflow.keras.datasets import mnist\n",
        "(train_images, train_labels), (test_images, test_labels) = mnist.load_data()\n",
        "\n",
        "train_images = train_images.reshape((60000, 28 * 28))\n",
        "train_images = train_images.astype(\"float32\") / 255\n",
        "test_images = test_images.reshape((10000, 28 * 28))\n",
        "test_images = test_images.astype(\"float32\") / 255\n",
        "\n",
        "fit(model, train_images, train_labels, epochs=10, batch_size=128)"
      ],
      "metadata": {
        "colab": {
          "base_uri": "https://localhost:8080/"
        },
        "id": "ATUPx3bxa7rt",
        "outputId": "cf91c0e1-e74b-4fb5-c0c7-5465984d3d07"
      },
      "execution_count": null,
      "outputs": [
        {
          "output_type": "stream",
          "name": "stdout",
          "text": [
            "Downloading data from https://storage.googleapis.com/tensorflow/tf-keras-datasets/mnist.npz\n",
            "11490434/11490434 [==============================] - 0s 0us/step\n",
            "Epoch 0\n",
            "loss at batch 0: 4.20\n",
            "loss at batch 100: 2.24\n",
            "loss at batch 200: 2.18\n",
            "loss at batch 300: 2.06\n",
            "loss at batch 400: 2.27\n",
            "Epoch 1\n",
            "loss at batch 0: 1.90\n",
            "loss at batch 100: 1.87\n",
            "loss at batch 200: 1.81\n",
            "loss at batch 300: 1.70\n",
            "loss at batch 400: 1.88\n",
            "Epoch 2\n",
            "loss at batch 0: 1.57\n",
            "loss at batch 100: 1.57\n",
            "loss at batch 200: 1.48\n",
            "loss at batch 300: 1.39\n",
            "loss at batch 400: 1.54\n",
            "Epoch 3\n",
            "loss at batch 0: 1.31\n",
            "loss at batch 100: 1.33\n",
            "loss at batch 200: 1.22\n",
            "loss at batch 300: 1.18\n",
            "loss at batch 400: 1.29\n",
            "Epoch 4\n",
            "loss at batch 0: 1.12\n",
            "loss at batch 100: 1.14\n",
            "loss at batch 200: 1.02\n",
            "loss at batch 300: 1.02\n",
            "loss at batch 400: 1.12\n",
            "Epoch 5\n",
            "loss at batch 0: 0.97\n",
            "loss at batch 100: 1.01\n",
            "loss at batch 200: 0.89\n",
            "loss at batch 300: 0.90\n",
            "loss at batch 400: 0.99\n",
            "Epoch 6\n",
            "loss at batch 0: 0.87\n",
            "loss at batch 100: 0.90\n",
            "loss at batch 200: 0.79\n",
            "loss at batch 300: 0.82\n",
            "loss at batch 400: 0.90\n",
            "Epoch 7\n",
            "loss at batch 0: 0.79\n",
            "loss at batch 100: 0.82\n",
            "loss at batch 200: 0.71\n",
            "loss at batch 300: 0.75\n",
            "loss at batch 400: 0.84\n",
            "Epoch 8\n",
            "loss at batch 0: 0.73\n",
            "loss at batch 100: 0.75\n",
            "loss at batch 200: 0.65\n",
            "loss at batch 300: 0.70\n",
            "loss at batch 400: 0.78\n",
            "Epoch 9\n",
            "loss at batch 0: 0.68\n",
            "loss at batch 100: 0.70\n",
            "loss at batch 200: 0.60\n",
            "loss at batch 300: 0.65\n",
            "loss at batch 400: 0.74\n"
          ]
        }
      ]
    },
    {
      "cell_type": "markdown",
      "source": [
        "❓❓❓\n",
        "\n",
        "EXERCISE: Modify the previous code to save the history of the loss function and draw it on a graph in order to study the convergence of the algorithm. Analyze the output of the evolution of the error function. Has it always been descending? What could we do to improve accuracy?\n",
        "\n",
        "Try replacing the optimizer with another from Keras.\n",
        "\n",
        "Try changing the learning rate and triggering the moment.\n",
        "\n",
        "❓❓❓"
      ],
      "metadata": {
        "id": "1CvukEFmbTC2"
      }
    },
    {
      "cell_type": "markdown",
      "source": [
        "✅"
      ],
      "metadata": {
        "id": "HfAENSnyjOOU"
      }
    },
    {
      "cell_type": "code",
      "source": [
        "import matplotlib.pyplot as plt\n",
        "\n",
        "def fit(model, images, labels, epochs, batch_size=128):\n",
        "    history = {\"loss\": []}\n",
        "    for epoch_counter in range(epochs):\n",
        "        print(f\"Epoch {epoch_counter}\")\n",
        "        batch_generator = BatchGenerator(images, labels)\n",
        "        for batch_counter in range(batch_generator.num_batches):\n",
        "            images_batch, labels_batch = batch_generator.next()\n",
        "            loss = one_training_step(model, images_batch, labels_batch)\n",
        "            if batch_counter % 100 == 0:\n",
        "                print(f\"loss at batch {batch_counter}: {loss:.2f}\")\n",
        "            history[\"loss\"].append(loss)\n",
        "        plt.plot(history[\"loss\"])\n",
        "        plt.title(\"Training Loss\")\n",
        "        plt.xlabel(\"Batch\")\n",
        "        plt.ylabel(\"Loss\")\n",
        "        plt.show()\n",
        "    return history"
      ],
      "metadata": {
        "id": "Uq9_LbGujO9F"
      },
      "execution_count": null,
      "outputs": []
    },
    {
      "cell_type": "markdown",
      "source": [
        "#Model evaluation\n",
        "We can evaluate the model by choosing the output neuron with the highest value in the prediction of the test set and comparing it with the expected label.\n",
        "\n",
        "❓❓❓ EXERCISE: Complete the code to choose the neuron with the highest probability ❓❓❓"
      ],
      "metadata": {
        "id": "lXx4Q348bZOK"
      }
    },
    {
      "cell_type": "code",
      "source": [
        "import numpy as np\n",
        "predictions = model(test_images)\n",
        "predictions = predictions.numpy()\n",
        "predicted_labels = 1 # CHANGE HERE\n",
        "matches = predicted_labels == test_labels\n",
        "print(f\"accuracy: {matches.mean():.2f}\")"
      ],
      "metadata": {
        "colab": {
          "base_uri": "https://localhost:8080/"
        },
        "id": "7lsSkGTpbSkS",
        "outputId": "7be99658-0586-4b69-a889-9f126a478cc3"
      },
      "execution_count": null,
      "outputs": [
        {
          "output_type": "stream",
          "name": "stdout",
          "text": [
            "accuracy: 0.11\n"
          ]
        }
      ]
    },
    {
      "cell_type": "code",
      "source": [
        "predictions[0].argmax()"
      ],
      "metadata": {
        "colab": {
          "base_uri": "https://localhost:8080/"
        },
        "id": "4xJ4HQAgbhs0",
        "outputId": "031ef213-691a-4537-a44a-ff8cfbcbf893"
      },
      "execution_count": null,
      "outputs": [
        {
          "output_type": "execute_result",
          "data": {
            "text/plain": [
              "7"
            ]
          },
          "metadata": {},
          "execution_count": 10
        }
      ]
    },
    {
      "cell_type": "markdown",
      "source": [
        "✅"
      ],
      "metadata": {
        "id": "AlWCexL6ke2i"
      }
    },
    {
      "cell_type": "code",
      "source": [
        "import numpy as np\n",
        "predictions = model(test_images)\n",
        "predictions = predictions.numpy()\n",
        "predicted_labels = np.argmax(predictions, axis=1)\n",
        "matches = predicted_labels == test_labels\n",
        "print(f\"accuracy: {matches.mean():.2f}\")"
      ],
      "metadata": {
        "id": "MqBMxJRSkfhG"
      },
      "execution_count": null,
      "outputs": []
    },
    {
      "cell_type": "markdown",
      "source": [
        "❓❓❓\n",
        "\n",
        "EXERCISE:\n",
        "\n",
        "Put all the code we have developed in a single cell so that it allows for multiple executions.\n",
        "\n",
        "1. Definition of classes (layer and model) and auxiliary functions (batch)\n",
        "2. Optimizer and update weights\n",
        "3. Training step and fit() function\n",
        "4. Load data\n",
        "5. Define model\n",
        "6. Fit the model by calling fit()\n",
        "7. Evaluate the model\n",
        "❓❓❓"
      ],
      "metadata": {
        "id": "ZtMzqIFHbnWr"
      }
    },
    {
      "cell_type": "markdown",
      "source": [
        "✅"
      ],
      "metadata": {
        "id": "XJQoh25sl4YL"
      }
    },
    {
      "cell_type": "code",
      "source": [
        "import tensorflow as tf\n",
        "import numpy as np\n",
        "import matplotlib.pyplot as plt\n",
        "from tensorflow.keras import optimizers\n",
        "from tensorflow.keras.datasets import mnist\n",
        "\n",
        "# Define the NaiveDense layer class\n",
        "class NaiveDense:\n",
        "    def __init__(self, input_size, output_size, activation):\n",
        "        self.activation = activation\n",
        "\n",
        "        # Initialize weights randomly\n",
        "        stddev = 1.0 / tf.math.sqrt(float(input_size))\n",
        "        w_shape = (input_size, output_size)\n",
        "        w_initial_value = tf.random.normal(w_shape, mean=0.0, stddev=stddev)\n",
        "        self.W = tf.Variable(w_initial_value)\n",
        "\n",
        "        b_shape = (output_size,)\n",
        "        b_initial_value = tf.zeros(b_shape)\n",
        "        self.b = tf.Variable(b_initial_value)\n",
        "\n",
        "    def __call__(self, inputs):\n",
        "        return self.activation(tf.matmul(inputs, self.W) + self.b)\n",
        "\n",
        "    @property\n",
        "    def weights(self):\n",
        "        return [self.W, self.b]\n",
        "\n",
        "# Define the NaiveSequential model class\n",
        "class NaiveSequential:\n",
        "    def __init__(self, layers):\n",
        "        self.layers = layers\n",
        "\n",
        "    def __call__(self, inputs):\n",
        "        x = inputs\n",
        "        for layer in self.layers:\n",
        "            x = layer(x)\n",
        "        return x\n",
        "\n",
        "    @property\n",
        "    def weights(self):\n",
        "        weights = []\n",
        "        for layer in self.layers:\n",
        "            weights += layer.weights\n",
        "        return weights\n",
        "\n",
        "# Define the BatchGenerator function\n",
        "class BatchGenerator:\n",
        "    def __init__(self, images, labels, batch_size=128, shuffle=True):\n",
        "        self.images = images\n",
        "        self.labels = labels\n",
        "        self.batch_size = batch_size\n",
        "        self.shuffle = shuffle\n",
        "        self.start_index = 0\n",
        "\n",
        "    def __len__(self):\n",
        "        return int(np.ceil(len(self.images) / float(self.batch_size)))\n",
        "\n",
        "    def __iter__(self):\n",
        "        return self\n",
        "\n",
        "    def __next__(self):\n",
        "        if self.start_index >= len(self.images):\n",
        "            raise StopIteration\n",
        "        end_index = self.start_index + self.batch_size\n",
        "        images_batch = self.images[self.start_index:end_index]\n",
        "        labels_batch = self.labels[self.start_index:end_index]\n",
        "        self.start_index += self.batch_size\n",
        "        if self.shuffle:\n",
        "            idx = np.random.permutation(len(images_batch))\n",
        "            images_batch = images_batch[idx]\n",
        "            labels_batch = labels_batch[idx]\n",
        "        return images_batch, labels_batch\n",
        "\n",
        "# Define the update_weights function\n",
        "optimizer = optimizers.Adam(learning_rate=1e-3)\n",
        "\n",
        "def update_weights(gradients, weights):\n",
        "    optimizer.apply_gradients(zip(gradients, weights))\n",
        "\n",
        "# Define the one_training_step function\n",
        "def one_training_step(model, images_batch, labels_batch):\n",
        "    with tf.GradientTape() as tape:\n",
        "        predictions = model(images_batch)\n",
        "        per_sample_losses = tf.keras.losses.sparse_categorical_crossentropy(\n",
        "            labels_batch, predictions)\n",
        "        average_loss = tf.reduce_mean(per_sample_losses)\n",
        "    gradients = tape.gradient(average_loss, model.weights)\n",
        "    update_weights(gradients, model.weights)\n",
        "    return average_loss\n",
        "\n",
        "# Define the fit function\n",
        "def fit(model, images, labels, epochs, batch_size=128):\n",
        "    history = {\"loss\": []}\n",
        "    for epoch_counter in range(epochs):\n",
        "        print(f\"Epoch {epoch_counter}\")\n",
        "        batch_generator = BatchGenerator(images, labels, batch_size=batch_size)\n",
        "        for batch_counter in range(batch_generator.__len__()):\n",
        "            images_batch, labels_batch = batch_generator.__next__()\n",
        "            loss = one_training_step(model, images_batch, labels_batch)\n",
        "            if batch_counter % 100 == 0:\n",
        "                print(f\"loss at batch {batch_counter}: {loss:.2f}\")\n",
        "            history[\"loss\"].append(loss)\n",
        "        plt.plot(history[\"loss\"])\n",
        "        plt.title(\"Training Loss\")\n",
        "        plt.xlabel(\"Batch\")\n",
        "        plt.ylabel(\"Loss\")\n",
        "        plt.show()\n",
        "    return history\n",
        "\n",
        "from tensorflow.keras.datasets import mnist\n",
        "(train_images, train_labels), (test_images, test_labels) = mnist.load_data()\n",
        "\n",
        "train_images = train_images.reshape((60000, 28 * 28))\n",
        "train_images = train_images.astype(\"float32\") / 255\n",
        "test_images = test_images.reshape((10000, 28 * 28))\n",
        "test_images = test_images.astype(\"float32\") / 255\n",
        "\n",
        "model = NaiveSequential([\n",
        "    NaiveDense(input_size=28 * 28, output_size=512, activation=tf.nn.sigmoid),\n",
        "    NaiveDense(input_size=512, output_size=10, activation=tf.nn.softmax)\n",
        "])\n",
        "\n",
        "fit(model, train_images, train_labels, epochs=3, batch_size=128)\n",
        "\n",
        "predictions = model(test_images)\n",
        "predictions = predictions.numpy()\n",
        "predicted_labels = np.argmax(predictions, axis=1)\n",
        "matches = predicted_labels == test_labels\n",
        "print(f\"accuracy: {matches.mean():.2f}\")"
      ],
      "metadata": {
        "colab": {
          "base_uri": "https://localhost:8080/",
          "height": 1000
        },
        "id": "B_U5sEXOkmgb",
        "outputId": "edff38c3-95e3-4469-c077-4d2b4590caf6"
      },
      "execution_count": 5,
      "outputs": [
        {
          "output_type": "stream",
          "name": "stdout",
          "text": [
            "Epoch 0\n",
            "loss at batch 0: 2.31\n",
            "loss at batch 100: 0.43\n",
            "loss at batch 200: 0.30\n",
            "loss at batch 300: 0.27\n",
            "loss at batch 400: 0.36\n"
          ]
        },
        {
          "output_type": "display_data",
          "data": {
            "text/plain": [
              "<Figure size 640x480 with 1 Axes>"
            ],
            "image/png": "[encoded data removed]"
          },
          "metadata": {}
        },
        {
          "output_type": "stream",
          "name": "stdout",
          "text": [
            "Epoch 1\n",
            "loss at batch 0: 0.20\n",
            "loss at batch 100: 0.19\n",
            "loss at batch 200: 0.22\n",
            "loss at batch 300: 0.19\n",
            "loss at batch 400: 0.26\n"
          ]
        },
        {
          "output_type": "display_data",
          "data": {
            "text/plain": [
              "<Figure size 640x480 with 1 Axes>"
            ],
            "image/png": "[encoded data removed]"
          },
          "metadata": {}
        },
        {
          "output_type": "stream",
          "name": "stdout",
          "text": [
            "Epoch 2\n",
            "loss at batch 0: 0.14\n",
            "loss at batch 100: 0.13\n",
            "loss at batch 200: 0.19\n",
            "loss at batch 300: 0.16\n",
            "loss at batch 400: 0.19\n"
          ]
        },
        {
          "output_type": "display_data",
          "data": {
            "text/plain": [
              "<Figure size 640x480 with 1 Axes>"
            ],
            "image/png": "[encoded data removed]"
          },
          "metadata": {}
        },
        {
          "output_type": "stream",
          "name": "stdout",
          "text": [
            "accuracy: 0.95\n"
          ]
        }
      ]
    }
  ]
}